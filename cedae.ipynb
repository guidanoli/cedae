{
 "cells": [
  {
   "cell_type": "markdown",
   "id": "447d8a86",
   "metadata": {},
   "source": [
    "# Data Science applied to CEDAE data\n",
    "\n",
    "CEDAE is the coorporation that provides drinking water and wastewater services for the Rio de Janeiro State.\n",
    "They provide plenty of data regarding the quality of the water for the press and for the population, due to laws imposed by the Ministry of Health of Brazil.\n",
    "\n",
    "There are data for physical, chemical and biological parameters of the drinking water of all ETAs (Estações de Tratamento de Água, or _Water Treatment Stations_).\n",
    "Amongst the ETAs managed by CEDAE is the Guandu, the largest ETA of the world, which provides drinking water for the municipalities of Nilópolis, Nova Iguaçu, Duque de Caxias, Belford Roxo, São João de Meriti, Itaguaí, Queimados and Rio de Janeiro.\n",
    "\n",
    "First, we need to download the HTML page with the links to the PDFs."
   ]
  },
  {
   "cell_type": "code",
   "execution_count": 1,
   "id": "a8c2cde5",
   "metadata": {},
   "outputs": [],
   "source": [
    "import urllib.request\n",
    "\n",
    "with urllib.request.urlopen('https://cedae.com.br/relatoriosguandu') as fp:\n",
    "    HTML_page = fp.read().decode() # Read from page and decode to UTF-8 string"
   ]
  },
  {
   "cell_type": "markdown",
   "id": "c4b3fb67",
   "metadata": {},
   "source": [
    "Then we define an `HTMLParser` class for scrapping hyperlinks."
   ]
  },
  {
   "cell_type": "code",
   "execution_count": 2,
   "id": "5340e059",
   "metadata": {},
   "outputs": [],
   "source": [
    "import html.parser\n",
    "\n",
    "class HyperlinkScraper(html.parser.HTMLParser):\n",
    "    \n",
    "    def __init__(self, predicate):\n",
    "        super().__init__()\n",
    "        self.link = None\n",
    "        self.links = dict()\n",
    "        self.year = None\n",
    "        self.in_h2 = False\n",
    "        self.pred = predicate\n",
    "\n",
    "    def handle_starttag(self, tag, attrs):\n",
    "        if tag == 'a':\n",
    "            # Replace spaces with %20\n",
    "            self.link = {value.replace(' ', '%20')\n",
    "                         for name, value in attrs\n",
    "                         if name == 'href'}\n",
    "        elif tag == 'h2':\n",
    "            self.in_h2 = True\n",
    "\n",
    "    def handle_data(self, data):\n",
    "        if self.in_h2:\n",
    "            # When in h2, search for a year\n",
    "            for word in data.split():\n",
    "                if word.isdigit():\n",
    "                    number = int(word)\n",
    "                    # CEDAE was created in 1975\n",
    "                    # 2100 seems a good upper bound here\n",
    "                    if 1975 <= number <= 2100:\n",
    "                        self.year = number\n",
    "                        break\n",
    "        if self.link and self.year and self.pred(data):\n",
    "            # If inside an <a> tag, and any link was found,\n",
    "            # and an year was found and the predicate is true,\n",
    "            # then add the links to the set of links of that year\n",
    "            if self.year not in self.links:\n",
    "                self.links[self.year] = set()\n",
    "            self.links[self.year] |= self.link\n",
    "\n",
    "    def handle_endtag(self, tag):\n",
    "        if tag == 'a':\n",
    "            self.link = None\n",
    "        elif tag == 'h2':\n",
    "            self.in_h2 = False"
   ]
  },
  {
   "cell_type": "markdown",
   "id": "83bd4670",
   "metadata": {},
   "source": [
    "We then feed the parser with the HTML page contents and get the scrapped links. We are first interested in data relating to geosmin."
   ]
  },
  {
   "cell_type": "code",
   "execution_count": 3,
   "id": "eb6592eb",
   "metadata": {},
   "outputs": [],
   "source": [
    "def geosmin_predicate(data):\n",
    "    return 'GEOSMINA' in data.upper()\n",
    "\n",
    "scraper = HyperlinkScraper(geosmin_predicate)\n",
    "scraper.feed(HTML_page)"
   ]
  },
  {
   "cell_type": "markdown",
   "id": "e3e3bd94",
   "metadata": {},
   "source": [
    "Finally, we download the PDFs and convert them to pandas DataFrames."
   ]
  },
  {
   "cell_type": "code",
   "execution_count": 4,
   "id": "0d77c6fc",
   "metadata": {},
   "outputs": [],
   "source": [
    "import urllib.parse\n",
    "import tabula\n",
    "\n",
    "dfs = {}\n",
    "for year, links in scraper.links.items():\n",
    "    assert len(links) == 1, \"Assumed there is 1 report per year\"\n",
    "    link = next(iter(links))\n",
    "    with urllib.request.urlopen(link) as fp:\n",
    "        dfs[year] = tabula.read_pdf(fp,\n",
    "                                    pages='all',\n",
    "                                    silent=True)"
   ]
  },
  {
   "cell_type": "markdown",
   "id": "381f7e5e",
   "metadata": {},
   "source": [
    "If you were to look at the PDFs in the `data` directory, you'd see that the tables have a merged cell in the header with the text \"CONCENTRAÇÃO TOTAL - GEOSMINA / MIB\". Tabula simply assumes this is indeed a column. The consequence is that the subcolumns are all crammed together."
   ]
  },
  {
   "cell_type": "code",
   "execution_count": 5,
   "id": "44b173b8",
   "metadata": {},
   "outputs": [
    {
     "data": {
      "text/html": [
       "<div>\n",
       "<style scoped>\n",
       "    .dataframe tbody tr th:only-of-type {\n",
       "        vertical-align: middle;\n",
       "    }\n",
       "\n",
       "    .dataframe tbody tr th {\n",
       "        vertical-align: top;\n",
       "    }\n",
       "\n",
       "    .dataframe thead th {\n",
       "        text-align: right;\n",
       "    }\n",
       "</style>\n",
       "<table border=\"1\" class=\"dataframe\">\n",
       "  <thead>\n",
       "    <tr style=\"text-align: right;\">\n",
       "      <th></th>\n",
       "      <th>Unnamed: 0</th>\n",
       "      <th>CONCENTRAÇÃO TOTAL - GEOSMINA / MIB</th>\n",
       "    </tr>\n",
       "  </thead>\n",
       "  <tbody>\n",
       "    <tr>\n",
       "      <th>0</th>\n",
       "      <td>NaN</td>\n",
       "      <td>Análises Terceirizadas - Laboratório Mérieux N...</td>\n",
       "    </tr>\n",
       "    <tr>\n",
       "      <th>1</th>\n",
       "      <td>DATA DE COLETA</td>\n",
       "      <td>NaN</td>\n",
       "    </tr>\n",
       "    <tr>\n",
       "      <th>2</th>\n",
       "      <td>NaN</td>\n",
       "      <td>Saída de Tratamento Saída de Tratamento</td>\n",
       "    </tr>\n",
       "    <tr>\n",
       "      <th>3</th>\n",
       "      <td>NaN</td>\n",
       "      <td>Ponto de Captação</td>\n",
       "    </tr>\n",
       "    <tr>\n",
       "      <th>4</th>\n",
       "      <td>NaN</td>\n",
       "      <td>VETA NETA</td>\n",
       "    </tr>\n",
       "    <tr>\n",
       "      <th>5</th>\n",
       "      <td>NaN</td>\n",
       "      <td>(mg/L)</td>\n",
       "    </tr>\n",
       "    <tr>\n",
       "      <th>6</th>\n",
       "      <td>NaN</td>\n",
       "      <td>(mg/L) (mg/L)</td>\n",
       "    </tr>\n",
       "    <tr>\n",
       "      <th>7</th>\n",
       "      <td>01/01/2021</td>\n",
       "      <td>&lt;0,010 &lt;0,010 &lt;0,010</td>\n",
       "    </tr>\n",
       "    <tr>\n",
       "      <th>8</th>\n",
       "      <td>02/01/2021</td>\n",
       "      <td>&lt;0,010 &lt;0,010 &lt;0,010</td>\n",
       "    </tr>\n",
       "    <tr>\n",
       "      <th>9</th>\n",
       "      <td>03/01/2021</td>\n",
       "      <td>&lt;0,010 &lt;0,010 &lt;0,010</td>\n",
       "    </tr>\n",
       "  </tbody>\n",
       "</table>\n",
       "</div>"
      ],
      "text/plain": [
       "       Unnamed: 0                CONCENTRAÇÃO TOTAL - GEOSMINA / MIB\n",
       "0             NaN  Análises Terceirizadas - Laboratório Mérieux N...\n",
       "1  DATA DE COLETA                                                NaN\n",
       "2             NaN            Saída de Tratamento Saída de Tratamento\n",
       "3             NaN                                  Ponto de Captação\n",
       "4             NaN                                          VETA NETA\n",
       "5             NaN                                             (mg/L)\n",
       "6             NaN                                      (mg/L) (mg/L)\n",
       "7      01/01/2021                               <0,010 <0,010 <0,010\n",
       "8      02/01/2021                               <0,010 <0,010 <0,010\n",
       "9      03/01/2021                               <0,010 <0,010 <0,010"
      ]
     },
     "execution_count": 5,
     "metadata": {},
     "output_type": "execute_result"
    }
   ],
   "source": [
    "dfs[2021][0][:10]"
   ]
  },
  {
   "cell_type": "markdown",
   "id": "63d4a9a3",
   "metadata": {},
   "source": [
    "One important discontinuity in the data is that before 18/03/2020, the concentration of geosmin and MIB of both ETAs (new and old, VETA and NETA) were averaged. After these date, these concentrations were measured and exposed separetely, since they are independent.\n",
    "\n",
    "A solution to this problem is to create four time series: before capture, VETA, NETA and the medium between VETA and NETA. For measurements later than 18/03/2020, calculating the weighted mean of the VETA and NETA values requires a missing data: the flow rate of each ETA.\n",
    "\n",
    "Also, we remove the header of these tables."
   ]
  },
  {
   "cell_type": "code",
   "execution_count": 6,
   "id": "63608a01",
   "metadata": {},
   "outputs": [
    {
     "data": {
      "text/html": [
       "<div>\n",
       "<style scoped>\n",
       "    .dataframe tbody tr th:only-of-type {\n",
       "        vertical-align: middle;\n",
       "    }\n",
       "\n",
       "    .dataframe tbody tr th {\n",
       "        vertical-align: top;\n",
       "    }\n",
       "\n",
       "    .dataframe thead th {\n",
       "        text-align: right;\n",
       "    }\n",
       "</style>\n",
       "<table border=\"1\" class=\"dataframe\">\n",
       "  <thead>\n",
       "    <tr style=\"text-align: right;\">\n",
       "      <th></th>\n",
       "      <th>date</th>\n",
       "      <th>params</th>\n",
       "    </tr>\n",
       "  </thead>\n",
       "  <tbody>\n",
       "    <tr>\n",
       "      <th>7</th>\n",
       "      <td>28/03/2021</td>\n",
       "      <td>0,077 0,092 0,020</td>\n",
       "    </tr>\n",
       "    <tr>\n",
       "      <th>8</th>\n",
       "      <td>29/03/2021</td>\n",
       "      <td>0,521 0,170 0,045</td>\n",
       "    </tr>\n",
       "    <tr>\n",
       "      <th>9</th>\n",
       "      <td>30/03/2021</td>\n",
       "      <td>0,495 0,109 0,018</td>\n",
       "    </tr>\n",
       "    <tr>\n",
       "      <th>10</th>\n",
       "      <td>31/03/2021</td>\n",
       "      <td>0,732 0,261 0,049</td>\n",
       "    </tr>\n",
       "    <tr>\n",
       "      <th>11</th>\n",
       "      <td>01/04/2021</td>\n",
       "      <td>0,726 0,194 0,052</td>\n",
       "    </tr>\n",
       "    <tr>\n",
       "      <th>12</th>\n",
       "      <td>02/04/2021</td>\n",
       "      <td>1,551 0,088 0,066</td>\n",
       "    </tr>\n",
       "    <tr>\n",
       "      <th>13</th>\n",
       "      <td>03/04/2021</td>\n",
       "      <td>1,166 0,516 0,080</td>\n",
       "    </tr>\n",
       "    <tr>\n",
       "      <th>14</th>\n",
       "      <td>04/04/2021</td>\n",
       "      <td>1,905 0,493 0,088</td>\n",
       "    </tr>\n",
       "    <tr>\n",
       "      <th>15</th>\n",
       "      <td>05/04/2021</td>\n",
       "      <td>0,537 0,308 0,075</td>\n",
       "    </tr>\n",
       "    <tr>\n",
       "      <th>16</th>\n",
       "      <td>06/04/2021</td>\n",
       "      <td>0,641 0,152 0,033</td>\n",
       "    </tr>\n",
       "  </tbody>\n",
       "</table>\n",
       "</div>"
      ],
      "text/plain": [
       "          date             params\n",
       "7   28/03/2021  0,077 0,092 0,020\n",
       "8   29/03/2021  0,521 0,170 0,045\n",
       "9   30/03/2021  0,495 0,109 0,018\n",
       "10  31/03/2021  0,732 0,261 0,049\n",
       "11  01/04/2021  0,726 0,194 0,052\n",
       "12  02/04/2021  1,551 0,088 0,066\n",
       "13  03/04/2021  1,166 0,516 0,080\n",
       "14  04/04/2021  1,905 0,493 0,088\n",
       "15  05/04/2021  0,537 0,308 0,075\n",
       "16  06/04/2021  0,641 0,152 0,033"
      ]
     },
     "execution_count": 6,
     "metadata": {},
     "output_type": "execute_result"
    }
   ],
   "source": [
    "from datetime import datetime\n",
    "\n",
    "date_format = '%d/%m/%Y'\n",
    "\n",
    "# Find the first row where the the value in the first\n",
    "# column (date) is a valid date in the format above\n",
    "# and remove any rows before it\n",
    "for df_list in dfs.values():\n",
    "    for df_idx, df in enumerate(df_list):\n",
    "        assert len(df.columns) == 2, \"Assumed data frames have 2 columns initially\"\n",
    "        df.columns = ['date', 'params']\n",
    "        for row_idx, row in df.iterrows():\n",
    "            try:\n",
    "                date = datetime.strptime(str(row.date), date_format)\n",
    "            except ValueError:\n",
    "                pass\n",
    "            else:\n",
    "                df_list[df_idx] = df[row_idx:]\n",
    "                break\n",
    "\n",
    "dfs[2021][2][:10]"
   ]
  },
  {
   "cell_type": "markdown",
   "id": "9d6c1b98",
   "metadata": {},
   "source": [
    "Then, we split the \"params\" column into \"capture\", \"veta\" and \"neta\" for measurements after 18/03/2020, and into \"capture\", \"etas\" before this date."
   ]
  },
  {
   "cell_type": "code",
   "execution_count": 7,
   "id": "f2730a49",
   "metadata": {},
   "outputs": [
    {
     "data": {
      "text/html": [
       "<div>\n",
       "<style scoped>\n",
       "    .dataframe tbody tr th:only-of-type {\n",
       "        vertical-align: middle;\n",
       "    }\n",
       "\n",
       "    .dataframe tbody tr th {\n",
       "        vertical-align: top;\n",
       "    }\n",
       "\n",
       "    .dataframe thead th {\n",
       "        text-align: right;\n",
       "    }\n",
       "</style>\n",
       "<table border=\"1\" class=\"dataframe\">\n",
       "  <thead>\n",
       "    <tr style=\"text-align: right;\">\n",
       "      <th></th>\n",
       "      <th>date</th>\n",
       "      <th>capture</th>\n",
       "      <th>veta</th>\n",
       "      <th>neta</th>\n",
       "    </tr>\n",
       "  </thead>\n",
       "  <tbody>\n",
       "    <tr>\n",
       "      <th>7</th>\n",
       "      <td>13/02/2021</td>\n",
       "      <td>&lt;0,010</td>\n",
       "      <td>&lt;0,010</td>\n",
       "      <td>&lt;0,010</td>\n",
       "    </tr>\n",
       "    <tr>\n",
       "      <th>8</th>\n",
       "      <td>14/02/2021</td>\n",
       "      <td>&lt;0,010</td>\n",
       "      <td>&lt;0,010</td>\n",
       "      <td>&lt;0,010</td>\n",
       "    </tr>\n",
       "    <tr>\n",
       "      <th>9</th>\n",
       "      <td>15/02/2021</td>\n",
       "      <td>&lt;0,010</td>\n",
       "      <td>&lt;0,010</td>\n",
       "      <td>&lt;0,010</td>\n",
       "    </tr>\n",
       "    <tr>\n",
       "      <th>10</th>\n",
       "      <td>16/02/2021</td>\n",
       "      <td>&lt;0,010</td>\n",
       "      <td>&lt;0,010</td>\n",
       "      <td>&lt;0,010</td>\n",
       "    </tr>\n",
       "    <tr>\n",
       "      <th>11</th>\n",
       "      <td>17/02/2021</td>\n",
       "      <td>&lt;0,010</td>\n",
       "      <td>&lt;0,010</td>\n",
       "      <td>&lt;0,010</td>\n",
       "    </tr>\n",
       "    <tr>\n",
       "      <th>12</th>\n",
       "      <td>18/02/2021</td>\n",
       "      <td>&lt;0,010</td>\n",
       "      <td>&lt;0,010</td>\n",
       "      <td>&lt;0,010</td>\n",
       "    </tr>\n",
       "    <tr>\n",
       "      <th>13</th>\n",
       "      <td>19/02/2021</td>\n",
       "      <td>&lt;0,010</td>\n",
       "      <td>&lt;0,010</td>\n",
       "      <td>&lt;0,010</td>\n",
       "    </tr>\n",
       "    <tr>\n",
       "      <th>14</th>\n",
       "      <td>20/02/2021</td>\n",
       "      <td>&lt;0,010</td>\n",
       "      <td>&lt;0,010</td>\n",
       "      <td>&lt;0,010</td>\n",
       "    </tr>\n",
       "    <tr>\n",
       "      <th>15</th>\n",
       "      <td>21/02/2021</td>\n",
       "      <td>&lt;0,010</td>\n",
       "      <td>&lt;0,010</td>\n",
       "      <td>&lt;0,010</td>\n",
       "    </tr>\n",
       "    <tr>\n",
       "      <th>16</th>\n",
       "      <td>22/02/2021</td>\n",
       "      <td>&lt;0,010</td>\n",
       "      <td>&lt;0,010</td>\n",
       "      <td>&lt;0,010</td>\n",
       "    </tr>\n",
       "  </tbody>\n",
       "</table>\n",
       "</div>"
      ],
      "text/plain": [
       "          date capture    veta    neta\n",
       "7   13/02/2021  <0,010  <0,010  <0,010\n",
       "8   14/02/2021  <0,010  <0,010  <0,010\n",
       "9   15/02/2021  <0,010  <0,010  <0,010\n",
       "10  16/02/2021  <0,010  <0,010  <0,010\n",
       "11  17/02/2021  <0,010  <0,010  <0,010\n",
       "12  18/02/2021  <0,010  <0,010  <0,010\n",
       "13  19/02/2021  <0,010  <0,010  <0,010\n",
       "14  20/02/2021  <0,010  <0,010  <0,010\n",
       "15  21/02/2021  <0,010  <0,010  <0,010\n",
       "16  22/02/2021  <0,010  <0,010  <0,010"
      ]
     },
     "execution_count": 7,
     "metadata": {},
     "output_type": "execute_result"
    }
   ],
   "source": [
    "for year, df_list in dfs.items():\n",
    "    for df_index, df in enumerate(df_list):\n",
    "        \n",
    "        if year == 2020 and df_index == 0:\n",
    "            columns = ['capture', 'etas']\n",
    "        else:\n",
    "            columns = ['capture', 'veta', 'neta']\n",
    "        \n",
    "        df[columns] = df['params'].str.split(n=len(columns)-1, expand=True)\n",
    "        del df['params']\n",
    "\n",
    "dfs[2021][1][:10]"
   ]
  },
  {
   "cell_type": "markdown",
   "id": "c00b2daa",
   "metadata": {},
   "source": [
    "Now, we convert the strings into numbers and dates.\n",
    "\n",
    "We see that values lower than 0.010 micrograms per liter are supressed. In order to keep that information, we'll store the value 0, but knowing that it actually represents all values between 0 and 0.010 (exclusive)."
   ]
  },
  {
   "cell_type": "code",
   "execution_count": 8,
   "id": "3eda27ca",
   "metadata": {},
   "outputs": [
    {
     "data": {
      "text/html": [
       "<div>\n",
       "<style scoped>\n",
       "    .dataframe tbody tr th:only-of-type {\n",
       "        vertical-align: middle;\n",
       "    }\n",
       "\n",
       "    .dataframe tbody tr th {\n",
       "        vertical-align: top;\n",
       "    }\n",
       "\n",
       "    .dataframe thead th {\n",
       "        text-align: right;\n",
       "    }\n",
       "</style>\n",
       "<table border=\"1\" class=\"dataframe\">\n",
       "  <thead>\n",
       "    <tr style=\"text-align: right;\">\n",
       "      <th></th>\n",
       "      <th>date</th>\n",
       "      <th>capture</th>\n",
       "      <th>veta</th>\n",
       "      <th>neta</th>\n",
       "    </tr>\n",
       "  </thead>\n",
       "  <tbody>\n",
       "    <tr>\n",
       "      <th>7</th>\n",
       "      <td>2021-02-13</td>\n",
       "      <td>0.0</td>\n",
       "      <td>0.0</td>\n",
       "      <td>0.0</td>\n",
       "    </tr>\n",
       "    <tr>\n",
       "      <th>8</th>\n",
       "      <td>2021-02-14</td>\n",
       "      <td>0.0</td>\n",
       "      <td>0.0</td>\n",
       "      <td>0.0</td>\n",
       "    </tr>\n",
       "    <tr>\n",
       "      <th>9</th>\n",
       "      <td>2021-02-15</td>\n",
       "      <td>0.0</td>\n",
       "      <td>0.0</td>\n",
       "      <td>0.0</td>\n",
       "    </tr>\n",
       "    <tr>\n",
       "      <th>10</th>\n",
       "      <td>2021-02-16</td>\n",
       "      <td>0.0</td>\n",
       "      <td>0.0</td>\n",
       "      <td>0.0</td>\n",
       "    </tr>\n",
       "    <tr>\n",
       "      <th>11</th>\n",
       "      <td>2021-02-17</td>\n",
       "      <td>0.0</td>\n",
       "      <td>0.0</td>\n",
       "      <td>0.0</td>\n",
       "    </tr>\n",
       "    <tr>\n",
       "      <th>12</th>\n",
       "      <td>2021-02-18</td>\n",
       "      <td>0.0</td>\n",
       "      <td>0.0</td>\n",
       "      <td>0.0</td>\n",
       "    </tr>\n",
       "    <tr>\n",
       "      <th>13</th>\n",
       "      <td>2021-02-19</td>\n",
       "      <td>0.0</td>\n",
       "      <td>0.0</td>\n",
       "      <td>0.0</td>\n",
       "    </tr>\n",
       "    <tr>\n",
       "      <th>14</th>\n",
       "      <td>2021-02-20</td>\n",
       "      <td>0.0</td>\n",
       "      <td>0.0</td>\n",
       "      <td>0.0</td>\n",
       "    </tr>\n",
       "    <tr>\n",
       "      <th>15</th>\n",
       "      <td>2021-02-21</td>\n",
       "      <td>0.0</td>\n",
       "      <td>0.0</td>\n",
       "      <td>0.0</td>\n",
       "    </tr>\n",
       "    <tr>\n",
       "      <th>16</th>\n",
       "      <td>2021-02-22</td>\n",
       "      <td>0.0</td>\n",
       "      <td>0.0</td>\n",
       "      <td>0.0</td>\n",
       "    </tr>\n",
       "  </tbody>\n",
       "</table>\n",
       "</div>"
      ],
      "text/plain": [
       "         date  capture  veta  neta\n",
       "7  2021-02-13      0.0   0.0   0.0\n",
       "8  2021-02-14      0.0   0.0   0.0\n",
       "9  2021-02-15      0.0   0.0   0.0\n",
       "10 2021-02-16      0.0   0.0   0.0\n",
       "11 2021-02-17      0.0   0.0   0.0\n",
       "12 2021-02-18      0.0   0.0   0.0\n",
       "13 2021-02-19      0.0   0.0   0.0\n",
       "14 2021-02-20      0.0   0.0   0.0\n",
       "15 2021-02-21      0.0   0.0   0.0\n",
       "16 2021-02-22      0.0   0.0   0.0"
      ]
     },
     "execution_count": 8,
     "metadata": {},
     "output_type": "execute_result"
    }
   ],
   "source": [
    "import pandas as pd\n",
    "\n",
    "for year, df_list in dfs.items():\n",
    "    for df_index, df in enumerate(df_list):\n",
    "        \n",
    "        if year == 2020 and df_index == 0:\n",
    "            columns = ['capture', 'etas']\n",
    "        else:\n",
    "            columns = ['capture', 'veta', 'neta']\n",
    "        \n",
    "        df.date = pd.to_datetime(df.date, dayfirst=True)\n",
    "        \n",
    "        for column in columns:\n",
    "            df[column] = pd.to_numeric(df[column]\n",
    "                                      .str.replace(' ', '')                    # any space is removed\n",
    "                                      .str.replace(',', '.')                   # use . as decimal delimiter\n",
    "                                      .str.replace('<.*', '0.0', regex=True))  # supress uncertainties\n",
    "\n",
    "dfs[2021][1][:10]"
   ]
  },
  {
   "cell_type": "markdown",
   "id": "a7c601a5",
   "metadata": {},
   "source": [
    "We then concatenate the data frames with same columns."
   ]
  },
  {
   "cell_type": "code",
   "execution_count": 9,
   "id": "5a7a9c36",
   "metadata": {},
   "outputs": [],
   "source": [
    "df1 = None\n",
    "df2 = []\n",
    "\n",
    "for year, df_list in sorted(dfs.items()):\n",
    "    for df_index, df in enumerate(df_list):\n",
    "        if year == 2020 and df_index == 0:\n",
    "            df1 = df\n",
    "        else:\n",
    "            df2.append(df)\n",
    "\n",
    "df2 = pd.concat(df2, ignore_index=True)"
   ]
  },
  {
   "cell_type": "markdown",
   "id": "cd3ebc93",
   "metadata": {},
   "source": [
    "Now that the data is nicely formatted, we can plot them with `matplotlib`"
   ]
  },
  {
   "cell_type": "code",
   "execution_count": 10,
   "id": "3576ea17",
   "metadata": {},
   "outputs": [],
   "source": [
    "import matplotlib.pyplot as plt"
   ]
  },
  {
   "cell_type": "markdown",
   "id": "6612d0d4",
   "metadata": {},
   "source": [
    "First, the data before 18/03/2020."
   ]
  },
  {
   "cell_type": "code",
   "execution_count": 11,
   "id": "abcb2db0",
   "metadata": {
    "scrolled": true
   },
   "outputs": [
    {
     "data": {
      "image/png": "[encoded data removed]",
      "text/plain": [
       "<Figure size 432x288 with 1 Axes>"
      ]
     },
     "metadata": {
      "needs_background": "light"
     },
     "output_type": "display_data"
    }
   ],
   "source": [
    "plt.plot(df1.date, df1.capture, label='Captação')\n",
    "plt.plot(df1.date, df1.etas, label='VETA+NETA')\n",
    "plt.xlabel('Tempo')\n",
    "plt.ylabel('Concentração de Geosmina / MIB (10^-6 g/L)')\n",
    "plt.title('Variação da concentração de geosmina em 2020')\n",
    "plt.legend()\n",
    "plt.show()"
   ]
  },
  {
   "cell_type": "markdown",
   "id": "a7a7a640",
   "metadata": {},
   "source": [
    "And then, after this date."
   ]
  },
  {
   "cell_type": "code",
   "execution_count": 12,
   "id": "c795da17",
   "metadata": {
    "scrolled": true
   },
   "outputs": [
    {
     "data": {
      "image/png": "[encoded data removed]",
      "text/plain": [
       "<Figure size 432x288 with 1 Axes>"
      ]
     },
     "metadata": {
      "needs_background": "light"
     },
     "output_type": "display_data"
    }
   ],
   "source": [
    "plt.plot(df2.date, df2.capture, label='Captação')\n",
    "plt.plot(df2.date, df2.veta, label='VETA')\n",
    "plt.plot(df2.date, df2.neta, label='NETA')\n",
    "plt.xlabel('Tempo')\n",
    "plt.ylabel('Concentração de Geosmina / MIB (10^-6 g/L)')\n",
    "plt.title('Variação da concentração de geosmina em 2020/2021')\n",
    "plt.legend()\n",
    "plt.show()"
   ]
  },
  {
   "cell_type": "markdown",
   "id": "89f8b024",
   "metadata": {},
   "source": [
    "We then export this data in the CSV format."
   ]
  },
  {
   "cell_type": "code",
   "execution_count": 13,
   "id": "1d813f0e",
   "metadata": {},
   "outputs": [],
   "source": [
    "df1.to_csv('geosmin-2020-01-26_2020-03-18.csv', index=False)\n",
    "df2.to_csv('geosmin-2020-10-23_today.csv', index=False)"
   ]
  }
 ],
 "metadata": {
  "kernelspec": {
   "display_name": "Python 3",
   "language": "python",
   "name": "python3"
  },
  "language_info": {
   "codemirror_mode": {
    "name": "ipython",
    "version": 3
   },
   "file_extension": ".py",
   "mimetype": "text/x-python",
   "name": "python",
   "nbconvert_exporter": "python",
   "pygments_lexer": "ipython3",
   "version": "3.9.5+"
  }
 },
 "nbformat": 4,
 "nbformat_minor": 5
}
