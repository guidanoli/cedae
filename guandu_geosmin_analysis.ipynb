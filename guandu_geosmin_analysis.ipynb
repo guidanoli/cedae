{
 "cells": [
  {
   "cell_type": "markdown",
   "id": "29080cb4",
   "metadata": {},
   "source": [
    "# Geosmin Data Analysis\n",
    "\n",
    "In this notebook we want to solve the following problem:\n",
    "\n",
    "The geosmin data is divided into two parts. The first contains the concentration of geosmin in the reservoir and the second contains the same data but in each treatament station. There are two treatment stations: VETA (Velha Estação de Tratamento de Água) e NETA (Nova Estação de Tratamento de Água).\n",
    "\n",
    "We don't know, however, how much water goes through each treatment stations, but we do have the following historical data:\n",
    "* Prior to 18/3/2020: concentration before treatment, concentration after treatment\n",
    "* After 23/10/2020: concentration before treatment, concentration after treatment in VETA, concentration after treatment in NETA\n",
    "\n",
    "We then modeled this problem as a chemistry problem. Were you good at solutions and concentration of mixtures? Well, this is no different than that. We have a concentration of geosmin in the water and we know that by mixing liquids of a certain concentration each we get an intermediate concentration. The problem is that we don't know how much from each liquid we've poured.\n",
    "\n",
    "Let's first look at the water treatment station like a black box that takes water and ejects (a cleaner) water.\n",
    "\n",
    "```\n",
    "Capture point --> Water treatment stations (Env) --> Reservoir\n",
    "(pc, Vc)                                             (pr, Vr)\n",
    "\n",
    "Legend:\n",
    "p = concentration\n",
    "V = volume\n",
    "E = efficiency\n",
    "```\n",
    "\n",
    "We define efficiency as the ratio between the concentration after and before the treatment (`Env=1-pr/pc`). It is thus a number between 0 and 1 (because we assume that we don't add any impurities to the water, so `pr<pc`).\n",
    "\n",
    "Now, let's look at the each water treatment plant individually.\n",
    "\n",
    "```\n",
    "Capture point -+--> NETA (En) --(pn, Vn)--+--> Reservoir\n",
    "(pc, Vc)       |                          |    (pr, Vr)\n",
    "               +--> VETA (Ev) --(pv, Vv)--+\n",
    "```\n",
    "\n",
    "Notice that the endpoints haven't changed. We just inspect the water treatment station in more detail. We learned that there are actually two water treatment stations inside. Each one has its own efficiency (`En` and `Ev`). We define `En=1-pn/pc`, `Ev=1-pv/pc`, `Vn+Vv=Vr=Vc`.\n",
    "\n",
    "We can calculate the efficiencies of NETA, VETA and the average of the two by historic data analysis. It is simply done by dividing the concentration of geosmin after treatment by the concentration before treatment (capture point).\n",
    "\n",
    "We also assume that geosmin isn't lost between the treatment exit and the reservoir. If `m` is mass of geosmin, then `mn+mv=mr`. We know that `p=m/V`, so `m=pV`. By this we obtain `pn*Vn+pv*Vv=pr*Vr`.\n",
    "\n",
    "We also define `Un=Vn/Vr` and `Uv=Vv/Vr` which are the percentage of how much water from the reservoir belongs to each water treatment. You can clearly see that `Un+Uv=1`. We now solve this system of equations to obtain `Un` and `Uv`, which will allow us to go from the mean and individual values, and backwards.\n",
    "\n",
    "```\n",
    "pn*Vn+pv*Vv=pr*Vr (divide by Vr)\n",
    "pn*Un+pv*Uv=pr (divide by pc)\n",
    "(1-En)*Un+(1-Ev)*Uv=(1-Env) (using Uv=1-Un)\n",
    "(1-En)*Un+(1-Ev)*(1-Un)=(1-Env)\n",
    "Un-Un*En+1-Un-Ev+Ev*Un=1-Env\n",
    "Un-Un*En-Un-Ev+Ev*Un=-Env\n",
    "-Un*En-Ev+Ev*Un=-Env\n",
    "Un(Ev-En)=-Env+Ev\n",
    "\n",
    "     Env-Ev               Env-En\n",
    "Un = ------    ==>  Uv =  ------\n",
    "     En-Ev                Ev-En\n",
    "```\n",
    "\n",
    "We need to obtain then `Env`, `En` and `Ev` from historical data. We also need to take into account the \"population\" of samples, because the ratio varies from time to time. We would also like to plot the histogram of each of these populations.\n",
    "\n",
    "When doing ratios between these concentrations, we need also to take care about upper bounds. If one of the data (numerator or denominator) is uncertain, we don't calculate the ratio.\n",
    "\n",
    "Let's first get `Env` from data prior to 18/03/2020."
   ]
  },
  {
   "cell_type": "code",
   "execution_count": 1,
   "id": "1632cdfd",
   "metadata": {},
   "outputs": [],
   "source": [
    "import os\n",
    "import pandas as pd\n",
    "import matplotlib.pyplot as plt\n",
    "import numpy as np"
   ]
  },
  {
   "cell_type": "code",
   "execution_count": 2,
   "id": "53c325a4",
   "metadata": {},
   "outputs": [],
   "source": [
    "csv_dir = os.path.join('output', 'guandu')\n",
    "dataset = {}"
   ]
  },
  {
   "cell_type": "code",
   "execution_count": 3,
   "id": "63302d2a",
   "metadata": {},
   "outputs": [],
   "source": [
    "# Read CSV with data (with MEAN concentration and capture)\n",
    "df1 = pd.read_csv(os.path.join(csv_dir, 'geosmin_2020-01-26_2020-03-18.csv'))"
   ]
  },
  {
   "cell_type": "code",
   "execution_count": 4,
   "id": "a68d90f7",
   "metadata": {},
   "outputs": [],
   "source": [
    "# Filter columns with uncertain data\n",
    "df1 = df1[(df1.is_capture_geosmin_ub == False) & (df1.is_etas_geosmin_ub == False)]"
   ]
  },
  {
   "cell_type": "code",
   "execution_count": 5,
   "id": "481ce004",
   "metadata": {},
   "outputs": [],
   "source": [
    "# Calculate efficiency\n",
    "Env = 1 - df1.etas_geosmin / df1.capture_geosmin"
   ]
  },
  {
   "cell_type": "code",
   "execution_count": 6,
   "id": "44d99523",
   "metadata": {},
   "outputs": [],
   "source": [
    "# Remove outliers\n",
    "Env = Env[Env > 0]"
   ]
  },
  {
   "cell_type": "code",
   "execution_count": 7,
   "id": "0a2db06a",
   "metadata": {},
   "outputs": [],
   "source": [
    "import matplotlib.pyplot as plt"
   ]
  },
  {
   "cell_type": "code",
   "execution_count": 8,
   "id": "9016d6b2",
   "metadata": {},
   "outputs": [
    {
     "data": {
      "image/png": "[encoded data removed]",
      "text/plain": [
       "<Figure size 432x288 with 1 Axes>"
      ]
     },
     "metadata": {
      "needs_background": "light"
     },
     "output_type": "display_data"
    }
   ],
   "source": [
    "# Plot efficiency of Guandu\n",
    "plt.hist(Env, bins=25)\n",
    "plt.title(\"Histogram of efficiency of Guandu\")\n",
    "plt.show()"
   ]
  },
  {
   "cell_type": "markdown",
   "id": "4d8af992",
   "metadata": {},
   "source": [
    "Now let's obtain `Ev` and `En` from data after 23/10/2020."
   ]
  },
  {
   "cell_type": "code",
   "execution_count": 9,
   "id": "29dd8677",
   "metadata": {},
   "outputs": [],
   "source": [
    "# Read CSV with data (with concentration on VETA and NETA, and capture)\n",
    "df2 = pd.read_csv(os.path.join(csv_dir, 'geosmin_2020-10-23_today.csv'))"
   ]
  },
  {
   "cell_type": "code",
   "execution_count": 10,
   "id": "c5be4043",
   "metadata": {},
   "outputs": [],
   "source": [
    "# Filter columns with uncertain data\n",
    "# We restrict per ETA, because then we have more data ;-)\n",
    "df3 = df2[(df2.is_capture_geosmin_ub == False) & (df2.is_veta_geosmin_ub == False)]\n",
    "df4 = df2[(df2.is_capture_geosmin_ub == False) & (df2.is_neta_geosmin_ub == False)]"
   ]
  },
  {
   "cell_type": "code",
   "execution_count": 11,
   "id": "ef7f70fa",
   "metadata": {},
   "outputs": [],
   "source": [
    "# Calculate efficiencies\n",
    "Ev = 1 - df3.veta_geosmin / df3.capture_geosmin\n",
    "En = 1 - df4.neta_geosmin / df4.capture_geosmin"
   ]
  },
  {
   "cell_type": "code",
   "execution_count": 12,
   "id": "7219328f",
   "metadata": {},
   "outputs": [],
   "source": [
    "# Remove outliers\n",
    "Ev = Ev[Ev > 0]\n",
    "En = En[En > 0]"
   ]
  },
  {
   "cell_type": "code",
   "execution_count": 13,
   "id": "4ac79abc",
   "metadata": {},
   "outputs": [
    {
     "data": {
      "image/png": "[encoded data removed]",
      "text/plain": [
       "<Figure size 432x288 with 1 Axes>"
      ]
     },
     "metadata": {
      "needs_background": "light"
     },
     "output_type": "display_data"
    }
   ],
   "source": [
    "# Plot histogram of efficiencie of VETA\n",
    "# Plot efficiency of Guandu\n",
    "plt.hist(Ev, bins=25)\n",
    "plt.title(\"Histogram of efficiency of VETA\")\n",
    "plt.show()"
   ]
  },
  {
   "cell_type": "code",
   "execution_count": 14,
   "id": "1df3d62b",
   "metadata": {},
   "outputs": [
    {
     "data": {
      "image/png": "[encoded data removed]",
      "text/plain": [
       "<Figure size 432x288 with 1 Axes>"
      ]
     },
     "metadata": {
      "needs_background": "light"
     },
     "output_type": "display_data"
    }
   ],
   "source": [
    "# Plot histogram of efficiencie of NETA\n",
    "# Plot efficiency of Guandu\n",
    "plt.hist(En, bins=25)\n",
    "plt.title(\"Histogram of efficiency of NETA\")\n",
    "plt.show()"
   ]
  },
  {
   "cell_type": "markdown",
   "id": "f7cde732",
   "metadata": {},
   "source": [
    "We can clearly see that NETA is more efficient than VETA. Let's calculate the average efficiencies."
   ]
  },
  {
   "cell_type": "code",
   "execution_count": 18,
   "id": "4e55d127",
   "metadata": {},
   "outputs": [
    {
     "name": "stdout",
     "output_type": "stream",
     "text": [
      "mean(Env) = 52.56%\n",
      "mean(Ev) = 66.09%\n",
      "mean(En) = 91.93%\n"
     ]
    }
   ],
   "source": [
    "print(\"mean(Env) = {:.2f}%\".format(100*np.mean(Env)))\n",
    "print(\"mean(Ev) = {:.2f}%\".format(100*np.mean(Ev)))\n",
    "print(\"mean(En) = {:.2f}%\".format(100*np.mean(En)))"
   ]
  },
  {
   "cell_type": "markdown",
   "id": "e8293aca",
   "metadata": {},
   "source": [
    "Here we see that mean(Env) > mean(Ev) > mean(En). We expected mean(Env) to be between mean(Ev) and mean(En), but it is not. This may be due to the fact that in the period of approximately 7 months, the quality of NETA and VETA has greatly improved. If we had data from these two measurements (the mean efficiency and the efficiency of each ETA), the data would be much more reliable."
   ]
  },
  {
   "cell_type": "code",
   "execution_count": 19,
   "id": "09d18772",
   "metadata": {},
   "outputs": [
    {
     "data": {
      "image/png": "[encoded data removed]",
      "text/plain": [
       "<Figure size 432x288 with 1 Axes>"
      ]
     },
     "metadata": {
      "needs_background": "light"
     },
     "output_type": "display_data"
    }
   ],
   "source": [
    "plt.figure()\n",
    "plt.title('Eficiência das ETAS em 2020/2021')\n",
    "plt.xlabel('Tempo')\n",
    "plt.ylabel('Eficiência')\n",
    "Env.plot(label='NETA+VETA')\n",
    "Ev.plot(label='VETA')\n",
    "En.plot(label='NETA')\n",
    "plt.legend(loc='best')\n",
    "plt.show()"
   ]
  },
  {
   "cell_type": "code",
   "execution_count": null,
   "id": "7945523e",
   "metadata": {},
   "outputs": [],
   "source": []
  }
 ],
 "metadata": {
  "kernelspec": {
   "display_name": "Python 3",
   "language": "python",
   "name": "python3"
  },
  "language_info": {
   "codemirror_mode": {
    "name": "ipython",
    "version": 3
   },
   "file_extension": ".py",
   "mimetype": "text/x-python",
   "name": "python",
   "nbconvert_exporter": "python",
   "pygments_lexer": "ipython3",
   "version": "3.9.5+"
  }
 },
 "nbformat": 4,
 "nbformat_minor": 5
}
