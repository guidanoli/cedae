{
 "cells": [
  {
   "cell_type": "markdown",
   "id": "edd68828",
   "metadata": {},
   "source": [
    "# Extract historic data from Guandu\n",
    "\n",
    "Sometimes Guandu data is included in reports of more broad geographical areas like the city of Rio de Janeiro. So we'll treat them specially. As written in the report of Rio de Janeiro of 2005:\n",
    "\n",
    "_\"A partir de Maio de 2005 para melhor verificação da qualidade da água fornecida ao município as análises de qualidade de água passaram a ter controles estatísticos por sistema de\n",
    "abastecimento.\"_\n",
    "\n",
    "I would translate it to English as:\n",
    "\n",
    "_\"After May 2005, in order to better verify the quality of the water provided to the municipality, the water quality analysis have now statistical control per supply system.\"_\n",
    "\n",
    "Because of that, we can't then use data from reports of 2004, because they are collected per municipality, not by water supply system.\n",
    "\n",
    "First, let's get the path for every guandu report."
   ]
  },
  {
   "cell_type": "code",
   "execution_count": 1,
   "id": "bfff80c5",
   "metadata": {},
   "outputs": [],
   "source": [
    "import os\n",
    "import glob\n",
    "import tabula\n",
    "import datetime\n",
    "import pandas as pd"
   ]
  },
  {
   "cell_type": "code",
   "execution_count": 19,
   "id": "d9795764",
   "metadata": {},
   "outputs": [],
   "source": [
    "reports = {\n",
    "    2005: {\n",
    "        'area': (59.169689641273685, 41.67616875712657, 67.11003627569528, 63.740022805017105),\n",
    "        'columns': ('colour', 'turbity', 'pH', 'free_chlorine', 'total_coliforms', 'thermo_coliforms'),\n",
    "        'page': 2,\n",
    "        'shiftlast': True,\n",
    "    },\n",
    "    # 2006 is missing\n",
    "    2007: {\n",
    "        'area': (72.74800456100343, 40.92741935483871, 81.89851767388826, 64.63709677419355),\n",
    "        'page': 1,\n",
    "        'columns': ('colour', 'turbity', 'pH', 'free_chlorine', 'total_coliforms', 'thermo_coliforms'),\n",
    "    },\n",
    "    2008: {\n",
    "        'area': (76.15771368086796, 41.548231025098275, 86.74252447737497, 63.501663138796495),\n",
    "        'page': 1,\n",
    "        'columns': ('colour', 'turbity', 'pH', 'free_chlorine', 'total_coliforms', 'thermo_coliforms'),\n",
    "    },\n",
    "    2009: {\n",
    "        'area': (8.135593220338983, 1.6617790811339197, 56.440677966101696, 31.867057673509287),\n",
    "        'page': 2,\n",
    "        'shiftlast': True,\n",
    "        'columns': ('month', 'colour_turbity_tests', 'chlorine_bacteriology_tests', 'turbity', 'colour', 'free_chlorine', 'total_coliforms', 'thermo_coliforms'),\n",
    "    },\n",
    "    2010: {\n",
    "        'area': (8.135593220338983, 1.6617790811339197, 56.440677966101696, 31.867057673509287),\n",
    "        'page': 2,\n",
    "        'shiftlast': True,\n",
    "        'columns': ('month', 'colour_turbity_tests', 'chlorine_bacteriology_tests', 'turbity', 'colour', 'free_chlorine', 'total_coliforms', 'thermo_coliforms'),\n",
    "    },\n",
    "    2011: {\n",
    "        'area': (7.525655644241732, 2.4188671638782506, 34.83466362599772, 32.37250554323725),\n",
    "        'page': 2,\n",
    "        'columns': ('month', 'chlorine_bacteriology_turbity_tests', 'colour_tests', 'turbity', 'colour', 'free_chlorine', 'total_coliforms', 'thermo_coliforms'),\n",
    "    },\n",
    "    2012: {\n",
    "        'area': (7.525655644241732, 2.297923805684338, 34.7206385404789, 32.412819995968555),\n",
    "        'page': 2,\n",
    "        'columns': ('month', 'chlorine_bacteriology_turbity_tests', 'colour_tests', 'turbity', 'colour', 'free_chlorine', 'total_coliforms', 'e_coli'),\n",
    "    },\n",
    "    2013: {\n",
    "        'area': (7.525655644241732, 2.297923805684338, 34.7206385404789, 32.412819995968555),\n",
    "        'page': 2,\n",
    "        'columns': ('month', 'chlorine_bacteriology_turbity_tests', 'colour_tests', 'turbity', 'colour', 'free_chlorine', 'total_coliforms', 'e_coli'),\n",
    "    },\n",
    "    2014: {\n",
    "        'area': (7.525655644241732, 2.3382382584156423, 34.94868871151653, 32.493448901431165),\n",
    "        'page': 2,\n",
    "        'columns': ('month', 'chlorine_bacteriology_turbity_tests', 'colour_tests', 'turbity', 'colour', 'free_chlorine', 'total_coliforms', 'e_coli'),\n",
    "    },\n",
    "    2015: {\n",
    "        'area': (4.275940706955531, 2.479338842975207, 40.87799315849487, 31.62668816770812),\n",
    "        'page': 2,\n",
    "        'columns': ('month', 'chlorine_bacteriology_turbity_tests', 'colour_tests', 'turbity', 'colour', 'free_chlorine', 'total_coliforms', 'total_coliforms_rec', 'e_coli', 'e_coli_rec'),\n",
    "    },\n",
    "    # 2016 has no table\n",
    "    2017: {\n",
    "        'area': (8.022284122562674, 1.5513897866839044, 54.038997214484674, 33.80736910148675),\n",
    "        'page': 2,\n",
    "        'columns': ('month', 'chlorine_bacteriology_turbity_tests', 'colour_tests', 'turbity', 'colour', 'free_chlorine', 'total_coliforms', 'total_coliforms_rec', 'e_coli', 'e_coli_rec'),\n",
    "    },\n",
    "    2018: {\n",
    "        'area': (8.0, 1.3680781758957654, 54.0, 33.811074918566774),\n",
    "        'page': 2,\n",
    "        'columns': ('month', 'chlorine_bacteriology_turbity_tests', 'colour_tests', 'turbity', 'colour', 'free_chlorine', 'total_coliforms', 'total_coliforms_rec', 'e_coli', 'e_coli_rec'),\n",
    "    },\n",
    "    # 2019 has no table\n",
    "    2020: {\n",
    "        'area': (25.725806451612904, 4.104903078677309, 49.71774193548387, 32.782212086659065),\n",
    "        'page': 2,\n",
    "        'columns': ('month', 'chlorine_bacteriology_turbity_tests', 'colour_tests', 'turbity', 'colour', 'free_chlorine', 'total_coliforms', 'total_coliforms_rec', 'e_coli', 'e_coli_rec'),\n",
    "        'shiftlast': True,\n",
    "    }\n",
    "}"
   ]
  },
  {
   "cell_type": "code",
   "execution_count": 23,
   "id": "78c1b485",
   "metadata": {},
   "outputs": [],
   "source": [
    "for year in os.listdir('input'):\n",
    "    try:\n",
    "        year_int = int(year)\n",
    "    except ValueError:\n",
    "        continue\n",
    "    if year_int not in reports:\n",
    "        continue\n",
    "    # Newer reports have Guandu data exclusively\n",
    "    path = os.path.join('input', year, 'guandu.pdf')\n",
    "    if os.path.isfile(path):\n",
    "        reports[year_int]['path'] = path\n",
    "        continue\n",
    "    # Older reports include Guandu in Rio de Janeiro reports\n",
    "    altpath = os.path.join('input', year, 'rio_de_janeiro.pdf')\n",
    "    if os.path.isfile(altpath):\n",
    "        reports[year_int]['path'] = altpath"
   ]
  },
  {
   "cell_type": "markdown",
   "id": "8a30527e",
   "metadata": {},
   "source": [
    "Let's take a look at the years we're able to obtain."
   ]
  },
  {
   "cell_type": "code",
   "execution_count": 24,
   "id": "2a53baa8",
   "metadata": {
    "scrolled": true
   },
   "outputs": [
    {
     "name": "stdout",
     "output_type": "stream",
     "text": [
      "2005, 2007, 2008, 2009, 2010, 2011, 2012, 2013, 2014, 2015, 2017, 2018, 2020\n"
     ]
    }
   ],
   "source": [
    "print(*sorted(reports.keys()), sep=', ')"
   ]
  },
  {
   "cell_type": "markdown",
   "id": "befb07f4",
   "metadata": {},
   "source": [
    "Let's now extract the tables from these PDFs. We need to define the area and page in the PDF where the table resides. This part is very manual, because the layout of reports have really changed over time, so we can't fully rely on `tabula-py` auto-detect feature...\n",
    "\n",
    "Also, a common issue with tables parsed by `tabula-py` is that the last collumn is shifted by one to the side.\n",
    "\n",
    "We also name columns with keywords for common access interface amongs reports."
   ]
  },
  {
   "cell_type": "code",
   "execution_count": 25,
   "id": "ce5032e5",
   "metadata": {},
   "outputs": [],
   "source": [
    "for year, reportdata in reports.items():\n",
    "    path = reportdata.get('path')\n",
    "    area = reportdata.get('area')\n",
    "    page = reportdata.get('page')\n",
    "    if path and area and page:\n",
    "        dfs = tabula.read_pdf(path, pages=page, area=area,\n",
    "                              relative_area=True, silent=True, lattice=True)\n",
    "        assert dfs, year\n",
    "        df = dfs[0]\n",
    "        df = df.dropna(how='all', axis=0)\n",
    "        df = df.dropna(how='all', axis=1)\n",
    "        if reportdata.get('shiftlast', False):\n",
    "            df.iloc[-1] = df.tail(1).shift(1, axis=1).iloc[0]\n",
    "        df = df.tail(12)\n",
    "        df = df.dropna(how='all', axis=1)\n",
    "        columns = reportdata.get('columns')\n",
    "        if columns:\n",
    "            df.columns = columns\n",
    "        reportdata['df'] = df"
   ]
  }
 ],
 "metadata": {
  "kernelspec": {
   "display_name": "Python 3",
   "language": "python",
   "name": "python3"
  },
  "language_info": {
   "codemirror_mode": {
    "name": "ipython",
    "version": 3
   },
   "file_extension": ".py",
   "mimetype": "text/x-python",
   "name": "python",
   "nbconvert_exporter": "python",
   "pygments_lexer": "ipython3",
   "version": "3.9.5+"
  }
 },
 "nbformat": 4,
 "nbformat_minor": 5
}
