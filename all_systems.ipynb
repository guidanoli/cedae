{
 "cells": [
  {
   "cell_type": "markdown",
   "id": "838aa00e",
   "metadata": {},
   "source": [
    "# All water supply systems\n",
    "\n",
    "CEDAE is the coorporation that provides drinking water and wastewater services for the Rio de Janeiro State.\n",
    "They provide plenty of data regarding the quality of the water for the press and for the population, due to laws imposed by the Ministry of Health of Brazil.\n",
    "\n",
    "Here we aim to extract, compile and analyse data from all water supply systems (that we'll be denoting by the acronym *WSS*) being monitored by CEDAE. This data is also available on their webpage. The data of every WSS is routinely gathered and anually compiled into a single report.\n",
    "\n",
    "Unfortunately, this data is not presented in high granularity, as only the mean of the measurements per month are available. Although this data has been monitored and available since 2004, we have less data samples (\\~204) than the number of daily recorded samples in a single year (\\~365).\n",
    "\n",
    "The data available contains the following parameters:\n",
    "\n",
    "* Physical and Chemical\n",
    "  * Haze (*turbidez*)\n",
    "  * Aparent color\n",
    "  * Residual chlorine\n",
    "* Bacteriological\n",
    "  * Total coliforms (before and after recollection)\n",
    "  * E. coli (before and after recollection)\n",
    "\n",
    "The plan is to do the following sequence of tasks:\n",
    "\n",
    "1. Download the HTML page where all links to PDFs reside\n",
    "2. Parse the HTML page and extract any link to PDFs and its metadata (year and WSS)\n",
    "3. Download each PDF into a list of well-formated data frames\n",
    "4. Make all these data frames uniform in terms of columns, units and representation\n",
    "4. Export these data frames as CSV for later analysis in Tableau or in Python"
   ]
  },
  {
   "cell_type": "markdown",
   "id": "38e88a13",
   "metadata": {},
   "source": [
    "## 1. Download the HTML page\n",
    "\n",
    "First we download the HTML using the `urllib.request.urlopen` method. It returns a file pointer, from which the page can be read as a stream of bytes, and decoded to UTF-8, the default string encoding for Python (and the modern internet, pretty much)."
   ]
  },
  {
   "cell_type": "code",
   "execution_count": 1,
   "id": "058fb13e",
   "metadata": {},
   "outputs": [],
   "source": [
    "import urllib.request\n",
    "\n",
    "with urllib.request.urlopen('https://cedae.com.br/relatorioanual') as fp:\n",
    "    page = fp.read().decode() # Read from page and decode to UTF-8 string"
   ]
  },
  {
   "cell_type": "markdown",
   "id": "95ec30fe",
   "metadata": {},
   "source": [
    "You can check that we got indeed the HTML for the page:"
   ]
  },
  {
   "cell_type": "code",
   "execution_count": 2,
   "id": "06a9cc47",
   "metadata": {},
   "outputs": [
    {
     "name": "stdout",
     "output_type": "stream",
     "text": [
      "<!DOCTYPE html>\r\n",
      "<html  lang=\"pt-BR\">\r\n",
      "<head id=\"Head\">\r\n",
      "<!--*******************\n"
     ]
    }
   ],
   "source": [
    "print(page[:80])"
   ]
  },
  {
   "cell_type": "markdown",
   "id": "6d3b7732",
   "metadata": {},
   "source": [
    "## 2. Parse the HTML page\n",
    "\n",
    "For this task, we'll be using the `HTMLParser` class from the `html.parser` module, which allows us to specify callbacks for when the parser reads the beggining tags (`<...>`), in-between text (`<a> ... </a>`), and their ending tags (`</...>`).\n",
    "\n",
    "After analysing the source code for the page we're parsing, we notice that all links that interest us are contained in tables, particularly inside `<td>` tags. Moreover, every table has a top row whose class is `thead` (probably for short for \"table head\") containing the year of the reports.\n",
    "\n",
    "For building our custom parser, we inherit the `HTMLParser`."
   ]
  },
  {
   "cell_type": "code",
   "execution_count": 3,
   "id": "708377c0",
   "metadata": {},
   "outputs": [],
   "source": [
    "import html.parser\n",
    "from datetime import datetime\n",
    "\n",
    "class MyHTMLParser(html.parser.HTMLParser):\n",
    "    \n",
    "    def __init__(self):\n",
    "        super().__init__()\n",
    "        self.in_td = False\n",
    "        self.in_thead = False\n",
    "        self.year = None\n",
    "        self.link = None\n",
    "        self.links = {}\n",
    "    \n",
    "    def handle_starttag(self, tag, attrs):\n",
    "        if tag == 'td':\n",
    "            self.in_td = True\n",
    "        elif tag == 'a':\n",
    "            links = [v for k, v in attrs if k == 'href']\n",
    "            if links:\n",
    "                assert len(links) == 1, links\n",
    "                self.link = links[0]\n",
    "        elif tag == 'tr' and ('class', 'thead') in attrs:\n",
    "            self.in_thead = True\n",
    "    \n",
    "    def handle_data(self, data):\n",
    "        if self.in_thead:\n",
    "            for number in [int(s) for s in data.split() if s.isdigit()]:\n",
    "                # CEDAE was created in 1975\n",
    "                if 1975 <= number <= datetime.now().year:\n",
    "                    self.year = number\n",
    "        elif self.in_td and self.link is not None:\n",
    "            assert self.year is not None\n",
    "            data = data.strip()\n",
    "            assert len(data) > 0\n",
    "            if self.year not in self.links:\n",
    "                self.links[self.year] = {}\n",
    "            assert data not in self.links[self.year], self.links[self.year][data]\n",
    "            self.links[self.year][data] = self.link\n",
    "    \n",
    "    def handle_endtag(self, tag):\n",
    "        if tag == 'td':\n",
    "            self.in_td = False\n",
    "        elif tag == 'a':\n",
    "            self.link = None\n",
    "        elif tag == 'tr':\n",
    "            self.in_thead = False\n",
    "        elif tag == 'table':\n",
    "            self.year = None"
   ]
  },
  {
   "cell_type": "markdown",
   "id": "3c291c05",
   "metadata": {},
   "source": [
    "We now construct a parser instance and feed it with the contents of the HTML page."
   ]
  },
  {
   "cell_type": "code",
   "execution_count": 4,
   "id": "2fb65052",
   "metadata": {},
   "outputs": [],
   "source": [
    "parser = MyHTMLParser()\n",
    "parser.feed(page)"
   ]
  },
  {
   "cell_type": "markdown",
   "id": "a472af53",
   "metadata": {},
   "source": [
    "The links are stored in the `links` field. It is a dictionary of dictionaries of strings. It is first indexed by the year of the reports, and second by the name of the water supply system, resulting in the link to the PDF of the annual report corresponding to that WSS in that year."
   ]
  },
  {
   "cell_type": "code",
   "execution_count": 5,
   "id": "7aecd00c",
   "metadata": {},
   "outputs": [],
   "source": [
    "links = parser.links"
   ]
  },
  {
   "cell_type": "markdown",
   "id": "431e8b61",
   "metadata": {},
   "source": [
    "Let's check the years we were able to obtain."
   ]
  },
  {
   "cell_type": "code",
   "execution_count": 6,
   "id": "413ebf09",
   "metadata": {},
   "outputs": [
    {
     "data": {
      "text/plain": [
       "dict_keys([2020, 2019, 2018, 2017, 2016])"
      ]
     },
     "execution_count": 6,
     "metadata": {},
     "output_type": "execute_result"
    }
   ],
   "source": [
    "links.keys()"
   ]
  },
  {
   "cell_type": "markdown",
   "id": "5da9bb51",
   "metadata": {},
   "source": [
    "And all the water supply systems."
   ]
  },
  {
   "cell_type": "code",
   "execution_count": 7,
   "id": "1bba44bf",
   "metadata": {},
   "outputs": [
    {
     "data": {
      "text/plain": [
       "{'Afonso Viseu',\n",
       " 'Alto São José',\n",
       " 'Alto de São José',\n",
       " 'Andrade Costa',\n",
       " 'Andrade Pinto',\n",
       " 'Anta',\n",
       " 'Aparecida',\n",
       " 'Aperibé',\n",
       " 'Arrozal',\n",
       " 'Atafona',\n",
       " 'Avelar',\n",
       " 'Banquete',\n",
       " 'Barcelos',\n",
       " 'Barra Do Açu',\n",
       " 'Barra Do Itabapoana',\n",
       " 'Barra de Itabapoana',\n",
       " 'Barra do Açu',\n",
       " 'Barra do Itabapoana',\n",
       " 'Beija-Flor',\n",
       " 'Beijaflor',\n",
       " 'Bom Jardim',\n",
       " 'Bom Jesus',\n",
       " 'Bom Jesus do Itabapoana',\n",
       " 'Bonsucesso',\n",
       " 'Cabo Severino',\n",
       " 'Cacaria',\n",
       " 'Cajueiro Degredo',\n",
       " 'Cajueiro/Degredo',\n",
       " 'Cajueirodegredo',\n",
       " 'Cambuci',\n",
       " 'Carabucu',\n",
       " 'Carabuçu',\n",
       " 'Carabuçú',\n",
       " 'Carapebus',\n",
       " 'Cardoso Moreira',\n",
       " 'Cascata Dos Amores',\n",
       " 'Cascata dos Amores',\n",
       " 'Cimento Paraiso',\n",
       " 'Cimento Paraíso',\n",
       " 'Conrado',\n",
       " 'Cordeiro',\n",
       " 'Cordeiro/Cantagado',\n",
       " 'Coronel Teixeira',\n",
       " 'Coronel Teixeira/Batatal',\n",
       " 'Coronel Teixeirabatatal',\n",
       " 'Demétrio Ribeiro',\n",
       " 'Dois Murinhos',\n",
       " 'Duas Barras',\n",
       " 'Euclidelândia',\n",
       " 'Fazenda Da Grama',\n",
       " 'Fazenda da Grama',\n",
       " 'Ferreiros',\n",
       " 'Fábrica Brasil',\n",
       " 'Gargau',\n",
       " 'Gargaú',\n",
       " 'Grussai',\n",
       " 'Grussaí',\n",
       " 'Guandu',\n",
       " 'Guandú',\n",
       " 'Gávea Pequena',\n",
       " 'Imunana Laranjal',\n",
       " 'Ipiabas',\n",
       " 'Itabapoana',\n",
       " 'Itakamosi',\n",
       " 'Italva',\n",
       " 'Itaocara',\n",
       " 'Itaperuna',\n",
       " 'Itingussu',\n",
       " 'Jacaranda',\n",
       " 'Jacarandá',\n",
       " 'Jaguarembé',\n",
       " 'Jamapara',\n",
       " 'Jamapará',\n",
       " 'Japuíba',\n",
       " 'Juparana',\n",
       " 'Juparanã',\n",
       " 'Laje Do Muriaé',\n",
       " 'Laje do Muriaé',\n",
       " 'Lajes do Muriaé',\n",
       " 'Laranjais',\n",
       " 'Laranjal',\n",
       " 'Lidice',\n",
       " 'Lídice',\n",
       " 'Macaé',\n",
       " 'Macuco',\n",
       " 'Manilha',\n",
       " 'Mantiquira',\n",
       " 'Marambaia',\n",
       " 'Maricá',\n",
       " 'Massambara',\n",
       " 'Massambará',\n",
       " 'Mazomba',\n",
       " 'Medanha',\n",
       " 'Mendanha',\n",
       " 'Miguel Pereira',\n",
       " 'Miracema',\n",
       " 'Monnerat',\n",
       " 'Monte Verde',\n",
       " 'Morro Azul',\n",
       " 'Morro Paraíso',\n",
       " 'Muriqui',\n",
       " 'Natividade',\n",
       " 'Nelson Carneiro',\n",
       " 'Nossa Senhora Aparecida',\n",
       " 'Osório',\n",
       " 'Ourania',\n",
       " 'Paineiras',\n",
       " 'Palmas',\n",
       " 'Palmas Paulo De Frontin',\n",
       " 'Paraiso do Tobias',\n",
       " 'Parapeuna',\n",
       " 'Parapeúna',\n",
       " 'Paraíba Do Sul',\n",
       " 'Paraíba do Sul',\n",
       " 'Paraíso',\n",
       " 'Paraíso Do Tobias',\n",
       " 'Parque Do Ingá',\n",
       " 'Parque do Inguá',\n",
       " 'Parque do Ingá',\n",
       " 'Passa Tres',\n",
       " 'Passa Três',\n",
       " 'Paty Do Alferes',\n",
       " 'Paty do Alferes',\n",
       " 'Penitentes',\n",
       " 'Pentagna',\n",
       " 'Piabetá',\n",
       " 'Pinheiral',\n",
       " 'Pipeiras',\n",
       " 'Pipeiras/Palacete',\n",
       " 'Piraí',\n",
       " 'Porciuncula',\n",
       " 'Porciúncula',\n",
       " 'Portela',\n",
       " 'Porto Das Caixas',\n",
       " 'Porto das Caixas',\n",
       " 'Porto das caixas',\n",
       " 'Posto Pena',\n",
       " 'Poço Manoel Ribeiro',\n",
       " 'Poço Manuel Ribeiro',\n",
       " 'Poço Marquês',\n",
       " 'Poço de Marques',\n",
       " 'Poço do Marquês',\n",
       " 'Praca João Pessoa',\n",
       " 'Praça João Pessoa',\n",
       " 'Pureza',\n",
       " 'Quininha Batalha',\n",
       " 'Quininha/Batalha',\n",
       " 'Quissamã',\n",
       " 'Ribeirão Das Lajes',\n",
       " 'Ribeirão das Lajes',\n",
       " 'Rio Bonito',\n",
       " 'Rio Claro',\n",
       " \"Rio D'Ouro\",\n",
       " 'Rio Dourado',\n",
       " 'Rio Douro',\n",
       " 'Rio Grande',\n",
       " 'Rio Preto',\n",
       " 'Rio Souza',\n",
       " 'Rosa Machado',\n",
       " 'Sacarrão',\n",
       " 'Santa Clara',\n",
       " 'Santa Maria Madalena',\n",
       " 'Santa Rita Da Floresta',\n",
       " 'Santa Rita da Floresta',\n",
       " 'Santanesia',\n",
       " 'Santanésia',\n",
       " 'Santo Aleixo',\n",
       " 'Sapucaia',\n",
       " 'Saudoso',\n",
       " 'Serra Do Piloto',\n",
       " 'Serra do Piloto',\n",
       " 'Sistema Parque Santana',\n",
       " 'Sistema São Pedro',\n",
       " 'Sumidouro',\n",
       " 'Suruí',\n",
       " 'São Fidélis',\n",
       " 'São Jose De Ubá',\n",
       " 'São José de Ubá',\n",
       " 'São João Da Barra',\n",
       " 'São João Do Paraíso',\n",
       " 'São João da Barra',\n",
       " 'São João de Ubá',\n",
       " 'São João do Paraiso',\n",
       " 'São Pedro',\n",
       " 'São Sebastião Do Alto',\n",
       " 'São Sebastião Paraíba',\n",
       " 'São Sebastião do Alto',\n",
       " 'São Sebastião do Paraíba',\n",
       " 'São Sebastião dos Ferreiros',\n",
       " 'Tachas',\n",
       " 'Tanguá',\n",
       " 'Taylor',\n",
       " 'Tinguá',\n",
       " 'Trajano',\n",
       " 'Trajano de Morais',\n",
       " 'Triunfo',\n",
       " 'Três Irmãos',\n",
       " 'Valença',\n",
       " 'Valão Do Barro',\n",
       " 'Valão do Barro',\n",
       " 'Vargem Alegre',\n",
       " 'Vargem Grande',\n",
       " 'Varjão',\n",
       " 'Varre-sai',\n",
       " 'Varresai',\n",
       " 'Vassouras',\n",
       " 'Venda Das Flores',\n",
       " 'Venda das Flores',\n",
       " 'Xerém'}"
      ]
     },
     "execution_count": 7,
     "metadata": {},
     "output_type": "execute_result"
    }
   ],
   "source": [
    "def wss_generator():\n",
    "    for year, reports in links.items():\n",
    "        for wss, link in reports.items():\n",
    "            yield wss\n",
    "\n",
    "set(wss_generator())"
   ]
  },
  {
   "cell_type": "markdown",
   "id": "ea3be446",
   "metadata": {},
   "source": [
    "We notice that there are a lot of duplicates, due to different casing. Let's make it uniform by changing all to title case (as in `Barra Da Tijuca`)."
   ]
  },
  {
   "cell_type": "code",
   "execution_count": 8,
   "id": "7213a48e",
   "metadata": {},
   "outputs": [],
   "source": [
    "new_links = {}\n",
    "for year, reports in links.items():\n",
    "    new_reports = {}\n",
    "    for wss, link in reports.items():\n",
    "        new_reports[wss.title()] = link\n",
    "    new_links[year] = new_reports\n",
    "links = new_links"
   ]
  },
  {
   "cell_type": "markdown",
   "id": "50028321",
   "metadata": {},
   "source": [
    "Let's check if we were able to remove duplicates..."
   ]
  },
  {
   "cell_type": "code",
   "execution_count": 9,
   "id": "cb8f4780",
   "metadata": {},
   "outputs": [
    {
     "data": {
      "text/plain": [
       "{'Afonso Viseu',\n",
       " 'Alto De São José',\n",
       " 'Alto São José',\n",
       " 'Andrade Costa',\n",
       " 'Andrade Pinto',\n",
       " 'Anta',\n",
       " 'Aparecida',\n",
       " 'Aperibé',\n",
       " 'Arrozal',\n",
       " 'Atafona',\n",
       " 'Avelar',\n",
       " 'Banquete',\n",
       " 'Barcelos',\n",
       " 'Barra De Itabapoana',\n",
       " 'Barra Do Açu',\n",
       " 'Barra Do Itabapoana',\n",
       " 'Beija-Flor',\n",
       " 'Beijaflor',\n",
       " 'Bom Jardim',\n",
       " 'Bom Jesus',\n",
       " 'Bom Jesus Do Itabapoana',\n",
       " 'Bonsucesso',\n",
       " 'Cabo Severino',\n",
       " 'Cacaria',\n",
       " 'Cajueiro Degredo',\n",
       " 'Cajueiro/Degredo',\n",
       " 'Cajueirodegredo',\n",
       " 'Cambuci',\n",
       " 'Carabucu',\n",
       " 'Carabuçu',\n",
       " 'Carabuçú',\n",
       " 'Carapebus',\n",
       " 'Cardoso Moreira',\n",
       " 'Cascata Dos Amores',\n",
       " 'Cimento Paraiso',\n",
       " 'Cimento Paraíso',\n",
       " 'Conrado',\n",
       " 'Cordeiro',\n",
       " 'Cordeiro/Cantagado',\n",
       " 'Coronel Teixeira',\n",
       " 'Coronel Teixeira/Batatal',\n",
       " 'Coronel Teixeirabatatal',\n",
       " 'Demétrio Ribeiro',\n",
       " 'Dois Murinhos',\n",
       " 'Duas Barras',\n",
       " 'Euclidelândia',\n",
       " 'Fazenda Da Grama',\n",
       " 'Ferreiros',\n",
       " 'Fábrica Brasil',\n",
       " 'Gargau',\n",
       " 'Gargaú',\n",
       " 'Grussai',\n",
       " 'Grussaí',\n",
       " 'Guandu',\n",
       " 'Guandú',\n",
       " 'Gávea Pequena',\n",
       " 'Imunana Laranjal',\n",
       " 'Ipiabas',\n",
       " 'Itabapoana',\n",
       " 'Itakamosi',\n",
       " 'Italva',\n",
       " 'Itaocara',\n",
       " 'Itaperuna',\n",
       " 'Itingussu',\n",
       " 'Jacaranda',\n",
       " 'Jacarandá',\n",
       " 'Jaguarembé',\n",
       " 'Jamapara',\n",
       " 'Jamapará',\n",
       " 'Japuíba',\n",
       " 'Juparana',\n",
       " 'Juparanã',\n",
       " 'Laje Do Muriaé',\n",
       " 'Lajes Do Muriaé',\n",
       " 'Laranjais',\n",
       " 'Laranjal',\n",
       " 'Lidice',\n",
       " 'Lídice',\n",
       " 'Macaé',\n",
       " 'Macuco',\n",
       " 'Manilha',\n",
       " 'Mantiquira',\n",
       " 'Marambaia',\n",
       " 'Maricá',\n",
       " 'Massambara',\n",
       " 'Massambará',\n",
       " 'Mazomba',\n",
       " 'Medanha',\n",
       " 'Mendanha',\n",
       " 'Miguel Pereira',\n",
       " 'Miracema',\n",
       " 'Monnerat',\n",
       " 'Monte Verde',\n",
       " 'Morro Azul',\n",
       " 'Morro Paraíso',\n",
       " 'Muriqui',\n",
       " 'Natividade',\n",
       " 'Nelson Carneiro',\n",
       " 'Nossa Senhora Aparecida',\n",
       " 'Osório',\n",
       " 'Ourania',\n",
       " 'Paineiras',\n",
       " 'Palmas',\n",
       " 'Palmas Paulo De Frontin',\n",
       " 'Paraiso Do Tobias',\n",
       " 'Parapeuna',\n",
       " 'Parapeúna',\n",
       " 'Paraíba Do Sul',\n",
       " 'Paraíso',\n",
       " 'Paraíso Do Tobias',\n",
       " 'Parque Do Inguá',\n",
       " 'Parque Do Ingá',\n",
       " 'Passa Tres',\n",
       " 'Passa Três',\n",
       " 'Paty Do Alferes',\n",
       " 'Penitentes',\n",
       " 'Pentagna',\n",
       " 'Piabetá',\n",
       " 'Pinheiral',\n",
       " 'Pipeiras',\n",
       " 'Pipeiras/Palacete',\n",
       " 'Piraí',\n",
       " 'Porciuncula',\n",
       " 'Porciúncula',\n",
       " 'Portela',\n",
       " 'Porto Das Caixas',\n",
       " 'Posto Pena',\n",
       " 'Poço De Marques',\n",
       " 'Poço Do Marquês',\n",
       " 'Poço Manoel Ribeiro',\n",
       " 'Poço Manuel Ribeiro',\n",
       " 'Poço Marquês',\n",
       " 'Praca João Pessoa',\n",
       " 'Praça João Pessoa',\n",
       " 'Pureza',\n",
       " 'Quininha Batalha',\n",
       " 'Quininha/Batalha',\n",
       " 'Quissamã',\n",
       " 'Ribeirão Das Lajes',\n",
       " 'Rio Bonito',\n",
       " 'Rio Claro',\n",
       " \"Rio D'Ouro\",\n",
       " 'Rio Dourado',\n",
       " 'Rio Douro',\n",
       " 'Rio Grande',\n",
       " 'Rio Preto',\n",
       " 'Rio Souza',\n",
       " 'Rosa Machado',\n",
       " 'Sacarrão',\n",
       " 'Santa Clara',\n",
       " 'Santa Maria Madalena',\n",
       " 'Santa Rita Da Floresta',\n",
       " 'Santanesia',\n",
       " 'Santanésia',\n",
       " 'Santo Aleixo',\n",
       " 'Sapucaia',\n",
       " 'Saudoso',\n",
       " 'Serra Do Piloto',\n",
       " 'Sistema Parque Santana',\n",
       " 'Sistema São Pedro',\n",
       " 'Sumidouro',\n",
       " 'Suruí',\n",
       " 'São Fidélis',\n",
       " 'São Jose De Ubá',\n",
       " 'São José De Ubá',\n",
       " 'São João Da Barra',\n",
       " 'São João De Ubá',\n",
       " 'São João Do Paraiso',\n",
       " 'São João Do Paraíso',\n",
       " 'São Pedro',\n",
       " 'São Sebastião Do Alto',\n",
       " 'São Sebastião Do Paraíba',\n",
       " 'São Sebastião Dos Ferreiros',\n",
       " 'São Sebastião Paraíba',\n",
       " 'Tachas',\n",
       " 'Tanguá',\n",
       " 'Taylor',\n",
       " 'Tinguá',\n",
       " 'Trajano',\n",
       " 'Trajano De Morais',\n",
       " 'Triunfo',\n",
       " 'Três Irmãos',\n",
       " 'Valença',\n",
       " 'Valão Do Barro',\n",
       " 'Vargem Alegre',\n",
       " 'Vargem Grande',\n",
       " 'Varjão',\n",
       " 'Varre-Sai',\n",
       " 'Varresai',\n",
       " 'Vassouras',\n",
       " 'Venda Das Flores',\n",
       " 'Xerém'}"
      ]
     },
     "execution_count": 9,
     "metadata": {},
     "output_type": "execute_result"
    }
   ],
   "source": [
    "set(wss_generator())"
   ]
  },
  {
   "cell_type": "markdown",
   "id": "d7a0bdf8",
   "metadata": {},
   "source": [
    "We were able to remove some duplicates (like `Barra Do Itabapoana` and `Barra do Itabapoana`), but some only differ by a character or two (like `Beija-Flor` and `Beijaflor`). In order to identify these similar strings, we'll be using the Levenshtein distance and building a distance matrix so we can easily spot duplicates."
   ]
  },
  {
   "cell_type": "code",
   "execution_count": 10,
   "id": "f895441a",
   "metadata": {},
   "outputs": [
    {
     "data": {
      "image/png": "[encoded data removed]",
      "text/plain": [
       "<Figure size 432x288 with 2 Axes>"
      ]
     },
     "metadata": {
      "needs_background": "light"
     },
     "output_type": "display_data"
    }
   ],
   "source": [
    "import numpy as np\n",
    "import matplotlib.pyplot as plt\n",
    "import Levenshtein\n",
    "\n",
    "wsss = list(set(wss_generator()))\n",
    "nwsss = len(wsss)\n",
    "dmatrix = np.zeros(shape=(nwsss, nwsss), dtype=np.int64)\n",
    "\n",
    "for i, wss_i in enumerate(wsss):\n",
    "    for j, wss_j in enumerate(wsss):\n",
    "        dmatrix[i][j] = Levenshtein.distance(wss_i, wss_j)\n",
    "\n",
    "plt.imshow(dmatrix)\n",
    "plt.colorbar()\n",
    "plt.show()"
   ]
  },
  {
   "cell_type": "markdown",
   "id": "4b17b865",
   "metadata": {},
   "source": [
    "This plot does not give us good insight about how the Levenshtein distance is distributed across the names. Let's plot a histogram, instead. We'll ignore distance between strings equal to zero because it is not relevant to us. Also, we're only interested in distances lower than 4."
   ]
  },
  {
   "cell_type": "code",
   "execution_count": 11,
   "id": "952e5c4f",
   "metadata": {},
   "outputs": [
    {
     "data": {
      "image/png": "[encoded data removed]",
      "text/plain": [
       "<Figure size 432x288 with 1 Axes>"
      ]
     },
     "metadata": {
      "needs_background": "light"
     },
     "output_type": "display_data"
    }
   ],
   "source": [
    "plt.hist(np.triu(dmatrix).flatten(), bins=10, range=(1, 10))\n",
    "plt.show()"
   ]
  },
  {
   "cell_type": "markdown",
   "id": "7c2e7af0",
   "metadata": {},
   "source": [
    "Let's inspect strings at a given Levenshtein distance with the following function."
   ]
  },
  {
   "cell_type": "code",
   "execution_count": 12,
   "id": "88d1495a",
   "metadata": {},
   "outputs": [],
   "source": [
    "def wss_at_distance(dist):\n",
    "    for i, wss_i in enumerate(wsss):\n",
    "        for j, wss_j in enumerate(wsss):\n",
    "            if i < j:\n",
    "                continue  # avoid duplicates\n",
    "            if dmatrix[i][j] == dist:\n",
    "                yield wss_i, wss_j"
   ]
  },
  {
   "cell_type": "markdown",
   "id": "8b9856c5",
   "metadata": {},
   "source": [
    "First, strings with 1 edit apart:"
   ]
  },
  {
   "cell_type": "code",
   "execution_count": 13,
   "id": "0591b3c5",
   "metadata": {},
   "outputs": [
    {
     "name": "stdout",
     "output_type": "stream",
     "text": [
      "('Massambara', 'Massambará')\n",
      "('Grussaí', 'Grussai')\n",
      "('Quininha Batalha', 'Quininha/Batalha')\n",
      "('Cajueiro Degredo', 'Cajueiro/Degredo')\n",
      "('Gargaú', 'Gargau')\n",
      "('Parque Do Ingá', 'Parque Do Inguá')\n",
      "('Guandú', 'Guandu')\n",
      "('Poço Manuel Ribeiro', 'Poço Manoel Ribeiro')\n",
      "('Cimento Paraiso', 'Cimento Paraíso')\n",
      "('Passa Três', 'Passa Tres')\n",
      "('Porciúncula', 'Porciuncula')\n",
      "('Mendanha', 'Medanha')\n",
      "('Parapeuna', 'Parapeúna')\n",
      "('Barra De Itabapoana', 'Barra Do Itabapoana')\n",
      "('São Jose De Ubá', 'São José De Ubá')\n",
      "('Paraiso Do Tobias', 'Paraíso Do Tobias')\n",
      "('Lajes Do Muriaé', 'Laje Do Muriaé')\n",
      "('Carabuçú', 'Carabuçu')\n",
      "('Juparanã', 'Juparana')\n",
      "('Tanguá', 'Tinguá')\n",
      "('Carabucu', 'Carabuçu')\n",
      "('Jamapará', 'Jamapara')\n",
      "('São João Do Paraíso', 'São João Do Paraiso')\n",
      "('Lidice', 'Lídice')\n",
      "('Praca João Pessoa', 'Praça João Pessoa')\n",
      "('Jacarandá', 'Jacaranda')\n",
      "('Santanesia', 'Santanésia')\n"
     ]
    }
   ],
   "source": [
    "print(*wss_at_distance(1), sep='\\n')"
   ]
  },
  {
   "cell_type": "markdown",
   "id": "502f4c30",
   "metadata": {},
   "source": [
    "Here we notice that a pair cannot be merged: `Tinguá` and `Tanguá`. They, in fact, have their own reports in the same year. Let's ignore those cases with the following filter function."
   ]
  },
  {
   "cell_type": "code",
   "execution_count": 14,
   "id": "bb52c751",
   "metadata": {},
   "outputs": [],
   "source": [
    "def have_report_in_same_year(wss1, wss2):\n",
    "    for year, reports in links.items():\n",
    "        if wss1 in reports and wss2 in reports:\n",
    "            return True\n",
    "    return False"
   ]
  },
  {
   "cell_type": "markdown",
   "id": "66f5d920",
   "metadata": {},
   "source": [
    "Then we define a new `wss_at_distance` function which make sures the WSSs never have reports in the same year."
   ]
  },
  {
   "cell_type": "code",
   "execution_count": 15,
   "id": "1661cfd5",
   "metadata": {},
   "outputs": [],
   "source": [
    "def wss_at_distance_v2(dist):\n",
    "    for wss1, wss2 in wss_at_distance(dist):\n",
    "        if not have_report_in_same_year(wss1, wss2):\n",
    "            yield wss1, wss2"
   ]
  },
  {
   "cell_type": "markdown",
   "id": "0c2cc27c",
   "metadata": {},
   "source": [
    "Now we take a look at the new list of WSSs with edit distance of 1 and notice that the `Tinguá x Tanguá` pair is now gone."
   ]
  },
  {
   "cell_type": "code",
   "execution_count": 16,
   "id": "bea2aee1",
   "metadata": {},
   "outputs": [
    {
     "name": "stdout",
     "output_type": "stream",
     "text": [
      "('Massambara', 'Massambará')\n",
      "('Grussaí', 'Grussai')\n",
      "('Quininha Batalha', 'Quininha/Batalha')\n",
      "('Cajueiro Degredo', 'Cajueiro/Degredo')\n",
      "('Gargaú', 'Gargau')\n",
      "('Parque Do Ingá', 'Parque Do Inguá')\n",
      "('Guandú', 'Guandu')\n",
      "('Poço Manuel Ribeiro', 'Poço Manoel Ribeiro')\n",
      "('Cimento Paraiso', 'Cimento Paraíso')\n",
      "('Passa Três', 'Passa Tres')\n",
      "('Porciúncula', 'Porciuncula')\n",
      "('Mendanha', 'Medanha')\n",
      "('Parapeuna', 'Parapeúna')\n",
      "('Barra De Itabapoana', 'Barra Do Itabapoana')\n",
      "('São Jose De Ubá', 'São José De Ubá')\n",
      "('Paraiso Do Tobias', 'Paraíso Do Tobias')\n",
      "('Lajes Do Muriaé', 'Laje Do Muriaé')\n",
      "('Carabuçú', 'Carabuçu')\n",
      "('Juparanã', 'Juparana')\n",
      "('Carabucu', 'Carabuçu')\n",
      "('Jamapará', 'Jamapara')\n",
      "('São João Do Paraíso', 'São João Do Paraiso')\n",
      "('Lidice', 'Lídice')\n",
      "('Praca João Pessoa', 'Praça João Pessoa')\n",
      "('Jacarandá', 'Jacaranda')\n",
      "('Santanesia', 'Santanésia')\n"
     ]
    }
   ],
   "source": [
    "print(*wss_at_distance_v2(1), sep='\\n')"
   ]
  },
  {
   "cell_type": "markdown",
   "id": "daaf8e7a",
   "metadata": {},
   "source": [
    "Let's now take a look at distance 2."
   ]
  },
  {
   "cell_type": "code",
   "execution_count": 17,
   "id": "15aab149",
   "metadata": {},
   "outputs": [
    {
     "name": "stdout",
     "output_type": "stream",
     "text": [
      "('Beijaflor', 'Beija-Flor')\n",
      "('Poço Do Marquês', 'Poço De Marques')\n",
      "('Cajueirodegredo', 'Cajueiro/Degredo')\n",
      "('Cajueirodegredo', 'Cajueiro Degredo')\n",
      "('Coronel Teixeirabatatal', 'Coronel Teixeira/Batatal')\n",
      "('Rio Douro', \"Rio D'Ouro\")\n",
      "('São João De Ubá', 'São José De Ubá')\n",
      "('São João De Ubá', 'São Jose De Ubá')\n",
      "('Carabucu', 'Carabuçú')\n",
      "('Varre-Sai', 'Varresai')\n"
     ]
    }
   ],
   "source": [
    "print(*wss_at_distance_v2(2), sep='\\n')"
   ]
  },
  {
   "cell_type": "markdown",
   "id": "d9eb6c1d",
   "metadata": {},
   "source": [
    "Here we notice that even CEDAE has made a mistake here and mistyped `São José de Ubá` until the year of 2017 as `São João de Ubá`, which doesn't even exist in Rio de Janeiro. If you were to read the report, you'd see that it's written `São José`, not `São João`.\n",
    "\n",
    "If we were to decide which name is correct, we could rely on the number of times such name was registered. But this method is not fail-proof, because as you can see, even CEDAE took a while to fix their typo. The best way is to let us judge which name is correct.\n",
    "\n",
    "Next, we'll see those names at distance 3."
   ]
  },
  {
   "cell_type": "code",
   "execution_count": 18,
   "id": "8a9abcaa",
   "metadata": {},
   "outputs": [
    {
     "name": "stdout",
     "output_type": "stream",
     "text": [
      "('Jacaranda', 'Juparana')\n",
      "('Poço Marquês', 'Poço Do Marquês')\n",
      "('São Sebastião Paraíba', 'São Sebastião Do Paraíba')\n",
      "('Alto São José', 'Alto De São José')\n"
     ]
    }
   ],
   "source": [
    "print(*wss_at_distance_v2(3), sep='\\n')"
   ]
  },
  {
   "cell_type": "markdown",
   "id": "02bbc433",
   "metadata": {},
   "source": [
    "Here we observe an interesting case. Although we have seen that `Jucaranda` and `Jacarandá` were similar with 1 edit distance, we haven't effectively stored this information anywhere. Thus, even though `Jacarandá` and `Juparanã` have reports in the same year, `Juparanã` was not merged with `Juparana` and `Jacarandá` was not merged with `Jacaranda`.\n",
    "\n",
    "What we need to do is create a sort of cluster for each similar word. In the beggining, each cluster has only one name. We'll define a function for providing such initial state, called `new_clusters`."
   ]
  },
  {
   "cell_type": "code",
   "execution_count": 19,
   "id": "95395428",
   "metadata": {},
   "outputs": [],
   "source": [
    "def new_clusters():\n",
    "    return {wss: set([wss]) for wss in wsss}"
   ]
  },
  {
   "cell_type": "markdown",
   "id": "be6fd770",
   "metadata": {},
   "source": [
    "Let's define a new version of `wss_at_distance` which ignores names in the same cluster or with conflicting clusters."
   ]
  },
  {
   "cell_type": "code",
   "execution_count": 20,
   "id": "f2b55659",
   "metadata": {},
   "outputs": [],
   "source": [
    "def can_clusters_be_merged(cl1, cl2):\n",
    "    if cl1 is cl2:\n",
    "        return False  # cannot merge with itself\n",
    "    for wss1 in cl1:\n",
    "        for wss2 in cl2:\n",
    "            if have_report_in_same_year(wss1, wss2):\n",
    "                return False\n",
    "    return True\n",
    "\n",
    "def wss_at_distance_v3(dist, clusters):\n",
    "    for wss1, wss2 in wss_at_distance_v2(dist):\n",
    "        if can_clusters_be_merged(clusters[wss1], clusters[wss2]):\n",
    "            yield wss1, wss2"
   ]
  },
  {
   "cell_type": "markdown",
   "id": "6a514fce",
   "metadata": {},
   "source": [
    "The idea is to merge cluster with similar names with distances from 1 to 3."
   ]
  },
  {
   "cell_type": "code",
   "execution_count": 21,
   "id": "ec852e37",
   "metadata": {},
   "outputs": [],
   "source": [
    "cls = new_clusters()\n",
    "for dist in range(1, 4):\n",
    "    for wss1, wss2 in wss_at_distance_v3(dist, cls):\n",
    "        new_cluster = cls[wss1].union(cls[wss2])\n",
    "        for wss in new_cluster:\n",
    "            cls[wss] = new_cluster"
   ]
  },
  {
   "cell_type": "markdown",
   "id": "b7adddf4",
   "metadata": {},
   "source": [
    "Now let's define a generator for unique clusters (since sets are not hashables, we need to use lists...)"
   ]
  },
  {
   "cell_type": "code",
   "execution_count": 22,
   "id": "aad34ea3",
   "metadata": {},
   "outputs": [],
   "source": [
    "def iter_clusters(clusters):\n",
    "    visited = []\n",
    "    clusters = sorted(clusters.values(), key=tuple)\n",
    "    clusters = sorted(clusters, reverse=True, key=len)\n",
    "    for cluster in clusters:\n",
    "        if cluster not in visited:\n",
    "            visited.append(cluster)\n",
    "            yield cluster"
   ]
  },
  {
   "cell_type": "markdown",
   "id": "356967b1",
   "metadata": {},
   "source": [
    "We then print all the clusters in order of size."
   ]
  },
  {
   "cell_type": "code",
   "execution_count": 23,
   "id": "611af6a5",
   "metadata": {
    "scrolled": true
   },
   "outputs": [
    {
     "name": "stdout",
     "output_type": "stream",
     "text": [
      "{'Cajueiro/Degredo', 'Cajueiro Degredo', 'Cajueirodegredo'}\n",
      "{'Carabuçú', 'Carabuçu', 'Carabucu'}\n",
      "{'Poço Do Marquês', 'Poço Marquês', 'Poço De Marques'}\n",
      "{'São João De Ubá', 'São Jose De Ubá', 'São José De Ubá'}\n",
      "{'Alto De São José', 'Alto São José'}\n",
      "{'Barra Do Itabapoana', 'Barra De Itabapoana'}\n",
      "{'Beija-Flor', 'Beijaflor'}\n",
      "{'Cimento Paraíso', 'Cimento Paraiso'}\n",
      "{'Coronel Teixeira/Batatal', 'Coronel Teixeirabatatal'}\n",
      "{'Gargaú', 'Gargau'}\n",
      "{'Grussaí', 'Grussai'}\n",
      "{'Guandu', 'Guandú'}\n",
      "{'Jacaranda', 'Jacarandá'}\n",
      "{'Jamapará', 'Jamapara'}\n",
      "{'Juparana', 'Juparanã'}\n",
      "{'Laje Do Muriaé', 'Lajes Do Muriaé'}\n",
      "{'Lídice', 'Lidice'}\n",
      "{'Massambará', 'Massambara'}\n",
      "{'Mendanha', 'Medanha'}\n",
      "{'Paraiso Do Tobias', 'Paraíso Do Tobias'}\n",
      "{'Parapeuna', 'Parapeúna'}\n",
      "{'Parque Do Inguá', 'Parque Do Ingá'}\n",
      "{'Passa Tres', 'Passa Três'}\n",
      "{'Porciúncula', 'Porciuncula'}\n",
      "{'Poço Manuel Ribeiro', 'Poço Manoel Ribeiro'}\n",
      "{'Praca João Pessoa', 'Praça João Pessoa'}\n",
      "{'Quininha Batalha', 'Quininha/Batalha'}\n",
      "{'Rio Douro', \"Rio D'Ouro\"}\n",
      "{'Santanésia', 'Santanesia'}\n",
      "{'São João Do Paraiso', 'São João Do Paraíso'}\n",
      "{'São Sebastião Paraíba', 'São Sebastião Do Paraíba'}\n",
      "{'Varresai', 'Varre-Sai'}\n",
      "{'Afonso Viseu'}\n",
      "{'Andrade Costa'}\n",
      "{'Andrade Pinto'}\n",
      "{'Anta'}\n",
      "{'Aparecida'}\n",
      "{'Aperibé'}\n",
      "{'Arrozal'}\n",
      "{'Atafona'}\n",
      "{'Avelar'}\n",
      "{'Banquete'}\n",
      "{'Barcelos'}\n",
      "{'Barra Do Açu'}\n",
      "{'Bom Jardim'}\n",
      "{'Bom Jesus'}\n",
      "{'Bom Jesus Do Itabapoana'}\n",
      "{'Bonsucesso'}\n",
      "{'Cabo Severino'}\n",
      "{'Cacaria'}\n",
      "{'Cambuci'}\n",
      "{'Carapebus'}\n",
      "{'Cardoso Moreira'}\n",
      "{'Cascata Dos Amores'}\n",
      "{'Conrado'}\n",
      "{'Cordeiro'}\n",
      "{'Cordeiro/Cantagado'}\n",
      "{'Coronel Teixeira'}\n",
      "{'Demétrio Ribeiro'}\n",
      "{'Dois Murinhos'}\n",
      "{'Duas Barras'}\n",
      "{'Euclidelândia'}\n",
      "{'Fazenda Da Grama'}\n",
      "{'Ferreiros'}\n",
      "{'Fábrica Brasil'}\n",
      "{'Gávea Pequena'}\n",
      "{'Imunana Laranjal'}\n",
      "{'Ipiabas'}\n",
      "{'Itabapoana'}\n",
      "{'Itakamosi'}\n",
      "{'Italva'}\n",
      "{'Itaocara'}\n",
      "{'Itaperuna'}\n",
      "{'Itingussu'}\n",
      "{'Jaguarembé'}\n",
      "{'Japuíba'}\n",
      "{'Laranjais'}\n",
      "{'Laranjal'}\n",
      "{'Macaé'}\n",
      "{'Macuco'}\n",
      "{'Manilha'}\n",
      "{'Mantiquira'}\n",
      "{'Marambaia'}\n",
      "{'Maricá'}\n",
      "{'Mazomba'}\n",
      "{'Miguel Pereira'}\n",
      "{'Miracema'}\n",
      "{'Monnerat'}\n",
      "{'Monte Verde'}\n",
      "{'Morro Azul'}\n",
      "{'Morro Paraíso'}\n",
      "{'Muriqui'}\n",
      "{'Natividade'}\n",
      "{'Nelson Carneiro'}\n",
      "{'Nossa Senhora Aparecida'}\n",
      "{'Osório'}\n",
      "{'Ourania'}\n",
      "{'Paineiras'}\n",
      "{'Palmas'}\n",
      "{'Palmas Paulo De Frontin'}\n",
      "{'Paraíba Do Sul'}\n",
      "{'Paraíso'}\n",
      "{'Paty Do Alferes'}\n",
      "{'Penitentes'}\n",
      "{'Pentagna'}\n",
      "{'Piabetá'}\n",
      "{'Pinheiral'}\n",
      "{'Pipeiras'}\n",
      "{'Pipeiras/Palacete'}\n",
      "{'Piraí'}\n",
      "{'Portela'}\n",
      "{'Porto Das Caixas'}\n",
      "{'Posto Pena'}\n",
      "{'Pureza'}\n",
      "{'Quissamã'}\n",
      "{'Ribeirão Das Lajes'}\n",
      "{'Rio Bonito'}\n",
      "{'Rio Claro'}\n",
      "{'Rio Dourado'}\n",
      "{'Rio Grande'}\n",
      "{'Rio Preto'}\n",
      "{'Rio Souza'}\n",
      "{'Rosa Machado'}\n",
      "{'Sacarrão'}\n",
      "{'Santa Clara'}\n",
      "{'Santa Maria Madalena'}\n",
      "{'Santa Rita Da Floresta'}\n",
      "{'Santo Aleixo'}\n",
      "{'Sapucaia'}\n",
      "{'Saudoso'}\n",
      "{'Serra Do Piloto'}\n",
      "{'Sistema Parque Santana'}\n",
      "{'Sistema São Pedro'}\n",
      "{'Sumidouro'}\n",
      "{'Suruí'}\n",
      "{'São Fidélis'}\n",
      "{'São João Da Barra'}\n",
      "{'São Pedro'}\n",
      "{'São Sebastião Do Alto'}\n",
      "{'São Sebastião Dos Ferreiros'}\n",
      "{'Tachas'}\n",
      "{'Tanguá'}\n",
      "{'Taylor'}\n",
      "{'Tinguá'}\n",
      "{'Trajano'}\n",
      "{'Trajano De Morais'}\n",
      "{'Triunfo'}\n",
      "{'Três Irmãos'}\n",
      "{'Valença'}\n",
      "{'Valão Do Barro'}\n",
      "{'Vargem Alegre'}\n",
      "{'Vargem Grande'}\n",
      "{'Varjão'}\n",
      "{'Vassouras'}\n",
      "{'Venda Das Flores'}\n",
      "{'Xerém'}\n"
     ]
    }
   ],
   "source": [
    "print(*iter_clusters(cls), sep='\\n')"
   ]
  },
  {
   "cell_type": "markdown",
   "id": "3c3d8beb",
   "metadata": {},
   "source": [
    "A somewhat uninteresting statistic we can extract from this is what is the percentage of names which are misspelled. We define it as such:"
   ]
  },
  {
   "cell_type": "code",
   "execution_count": 24,
   "id": "a5950d8e",
   "metadata": {},
   "outputs": [],
   "source": [
    "def misspelled_ratio(clusters):\n",
    "    total = 0\n",
    "    misspelled = 0\n",
    "    for cluster in clusters.values():\n",
    "        total += len(cluster)           # every name is in a cluster\n",
    "        misspelled += len(cluster) - 1  # at least one from each cluster is the write spelling\n",
    "    return misspelled/total"
   ]
  },
  {
   "cell_type": "markdown",
   "id": "5dffedb9",
   "metadata": {},
   "source": [
    "We print it out nicely:"
   ]
  },
  {
   "cell_type": "code",
   "execution_count": 25,
   "id": "b6bc4aee",
   "metadata": {},
   "outputs": [
    {
     "name": "stdout",
     "output_type": "stream",
     "text": [
      "29.41% are misspelled\n"
     ]
    }
   ],
   "source": [
    "print('{:.2f}% are misspelled'.format(100*misspelled_ratio(cls)))"
   ]
  },
  {
   "cell_type": "markdown",
   "id": "af2d75ef",
   "metadata": {},
   "source": [
    "As mentioned earlier, this processing is meant only to take misspellings into account. For cases where the edit distance is just to large to grasp similarities, we resort to other methods. Now, let's define a function for selecting the right spelling of each cluster."
   ]
  },
  {
   "cell_type": "code",
   "execution_count": 26,
   "id": "bda410e7",
   "metadata": {},
   "outputs": [],
   "source": [
    "def ascii_count(s):\n",
    "    return len([c for c in s if not c.isascii()])\n",
    "\n",
    "def last_year(s):\n",
    "    y = 0\n",
    "    for year, reports in links.items():\n",
    "        if s in reports:\n",
    "            y = year\n",
    "    return y\n",
    "\n",
    "def get_right_spelling(cl):\n",
    "    # Criterium for choosing the right spelling\n",
    "    # In order of least importance\n",
    "    s = iter(cl)\n",
    "    s = sorted(s, key=last_year)    # last year\n",
    "    s = sorted(s, key=ascii_count)  # number of non-ASCII characters\n",
    "    s = sorted(s, key=len)          # length\n",
    "    return s[-1]"
   ]
  },
  {
   "cell_type": "markdown",
   "id": "66b47d72",
   "metadata": {},
   "source": [
    "Let us see if our criterium are good enough..."
   ]
  },
  {
   "cell_type": "code",
   "execution_count": 27,
   "id": "d7f2f4e9",
   "metadata": {
    "scrolled": true
   },
   "outputs": [
    {
     "name": "stdout",
     "output_type": "stream",
     "text": [
      "{'Cajueiro/Degredo', 'Cajueiro Degredo', 'Cajueirodegredo'} -> Cajueiro/Degredo\n",
      "{'Carabuçú', 'Carabuçu', 'Carabucu'} -> Carabuçú\n",
      "{'Poço Do Marquês', 'Poço Marquês', 'Poço De Marques'} -> Poço Do Marquês\n",
      "{'São João De Ubá', 'São Jose De Ubá', 'São José De Ubá'} -> São José De Ubá\n",
      "{'Alto De São José', 'Alto São José'} -> Alto De São José\n",
      "{'Barra Do Itabapoana', 'Barra De Itabapoana'} -> Barra De Itabapoana\n",
      "{'Beija-Flor', 'Beijaflor'} -> Beija-Flor\n",
      "{'Cimento Paraíso', 'Cimento Paraiso'} -> Cimento Paraíso\n",
      "{'Coronel Teixeira/Batatal', 'Coronel Teixeirabatatal'} -> Coronel Teixeira/Batatal\n",
      "{'Gargaú', 'Gargau'} -> Gargaú\n",
      "{'Grussaí', 'Grussai'} -> Grussaí\n",
      "{'Guandu', 'Guandú'} -> Guandú\n",
      "{'Jacaranda', 'Jacarandá'} -> Jacarandá\n",
      "{'Jamapará', 'Jamapara'} -> Jamapará\n",
      "{'Juparana', 'Juparanã'} -> Juparanã\n",
      "{'Laje Do Muriaé', 'Lajes Do Muriaé'} -> Lajes Do Muriaé\n",
      "{'Lídice', 'Lidice'} -> Lídice\n",
      "{'Massambará', 'Massambara'} -> Massambará\n",
      "{'Mendanha', 'Medanha'} -> Mendanha\n",
      "{'Paraiso Do Tobias', 'Paraíso Do Tobias'} -> Paraíso Do Tobias\n",
      "{'Parapeuna', 'Parapeúna'} -> Parapeúna\n",
      "{'Parque Do Inguá', 'Parque Do Ingá'} -> Parque Do Inguá\n",
      "{'Passa Tres', 'Passa Três'} -> Passa Três\n",
      "{'Porciúncula', 'Porciuncula'} -> Porciúncula\n",
      "{'Poço Manuel Ribeiro', 'Poço Manoel Ribeiro'} -> Poço Manoel Ribeiro\n",
      "{'Praca João Pessoa', 'Praça João Pessoa'} -> Praça João Pessoa\n",
      "{'Quininha Batalha', 'Quininha/Batalha'} -> Quininha/Batalha\n",
      "{'Rio Douro', \"Rio D'Ouro\"} -> Rio D'Ouro\n",
      "{'Santanésia', 'Santanesia'} -> Santanésia\n",
      "{'São João Do Paraiso', 'São João Do Paraíso'} -> São João Do Paraíso\n",
      "{'São Sebastião Paraíba', 'São Sebastião Do Paraíba'} -> São Sebastião Do Paraíba\n",
      "{'Varresai', 'Varre-Sai'} -> Varre-Sai\n",
      "{'Afonso Viseu'} -> Afonso Viseu\n",
      "{'Andrade Costa'} -> Andrade Costa\n",
      "{'Andrade Pinto'} -> Andrade Pinto\n",
      "{'Anta'} -> Anta\n",
      "{'Aparecida'} -> Aparecida\n",
      "{'Aperibé'} -> Aperibé\n",
      "{'Arrozal'} -> Arrozal\n",
      "{'Atafona'} -> Atafona\n",
      "{'Avelar'} -> Avelar\n",
      "{'Banquete'} -> Banquete\n",
      "{'Barcelos'} -> Barcelos\n",
      "{'Barra Do Açu'} -> Barra Do Açu\n",
      "{'Bom Jardim'} -> Bom Jardim\n",
      "{'Bom Jesus'} -> Bom Jesus\n",
      "{'Bom Jesus Do Itabapoana'} -> Bom Jesus Do Itabapoana\n",
      "{'Bonsucesso'} -> Bonsucesso\n",
      "{'Cabo Severino'} -> Cabo Severino\n",
      "{'Cacaria'} -> Cacaria\n",
      "{'Cambuci'} -> Cambuci\n",
      "{'Carapebus'} -> Carapebus\n",
      "{'Cardoso Moreira'} -> Cardoso Moreira\n",
      "{'Cascata Dos Amores'} -> Cascata Dos Amores\n",
      "{'Conrado'} -> Conrado\n",
      "{'Cordeiro'} -> Cordeiro\n",
      "{'Cordeiro/Cantagado'} -> Cordeiro/Cantagado\n",
      "{'Coronel Teixeira'} -> Coronel Teixeira\n",
      "{'Demétrio Ribeiro'} -> Demétrio Ribeiro\n",
      "{'Dois Murinhos'} -> Dois Murinhos\n",
      "{'Duas Barras'} -> Duas Barras\n",
      "{'Euclidelândia'} -> Euclidelândia\n",
      "{'Fazenda Da Grama'} -> Fazenda Da Grama\n",
      "{'Ferreiros'} -> Ferreiros\n",
      "{'Fábrica Brasil'} -> Fábrica Brasil\n",
      "{'Gávea Pequena'} -> Gávea Pequena\n",
      "{'Imunana Laranjal'} -> Imunana Laranjal\n",
      "{'Ipiabas'} -> Ipiabas\n",
      "{'Itabapoana'} -> Itabapoana\n",
      "{'Itakamosi'} -> Itakamosi\n",
      "{'Italva'} -> Italva\n",
      "{'Itaocara'} -> Itaocara\n",
      "{'Itaperuna'} -> Itaperuna\n",
      "{'Itingussu'} -> Itingussu\n",
      "{'Jaguarembé'} -> Jaguarembé\n",
      "{'Japuíba'} -> Japuíba\n",
      "{'Laranjais'} -> Laranjais\n",
      "{'Laranjal'} -> Laranjal\n",
      "{'Macaé'} -> Macaé\n",
      "{'Macuco'} -> Macuco\n",
      "{'Manilha'} -> Manilha\n",
      "{'Mantiquira'} -> Mantiquira\n",
      "{'Marambaia'} -> Marambaia\n",
      "{'Maricá'} -> Maricá\n",
      "{'Mazomba'} -> Mazomba\n",
      "{'Miguel Pereira'} -> Miguel Pereira\n",
      "{'Miracema'} -> Miracema\n",
      "{'Monnerat'} -> Monnerat\n",
      "{'Monte Verde'} -> Monte Verde\n",
      "{'Morro Azul'} -> Morro Azul\n",
      "{'Morro Paraíso'} -> Morro Paraíso\n",
      "{'Muriqui'} -> Muriqui\n",
      "{'Natividade'} -> Natividade\n",
      "{'Nelson Carneiro'} -> Nelson Carneiro\n",
      "{'Nossa Senhora Aparecida'} -> Nossa Senhora Aparecida\n",
      "{'Osório'} -> Osório\n",
      "{'Ourania'} -> Ourania\n",
      "{'Paineiras'} -> Paineiras\n",
      "{'Palmas'} -> Palmas\n",
      "{'Palmas Paulo De Frontin'} -> Palmas Paulo De Frontin\n",
      "{'Paraíba Do Sul'} -> Paraíba Do Sul\n",
      "{'Paraíso'} -> Paraíso\n",
      "{'Paty Do Alferes'} -> Paty Do Alferes\n",
      "{'Penitentes'} -> Penitentes\n",
      "{'Pentagna'} -> Pentagna\n",
      "{'Piabetá'} -> Piabetá\n",
      "{'Pinheiral'} -> Pinheiral\n",
      "{'Pipeiras'} -> Pipeiras\n",
      "{'Pipeiras/Palacete'} -> Pipeiras/Palacete\n",
      "{'Piraí'} -> Piraí\n",
      "{'Portela'} -> Portela\n",
      "{'Porto Das Caixas'} -> Porto Das Caixas\n",
      "{'Posto Pena'} -> Posto Pena\n",
      "{'Pureza'} -> Pureza\n",
      "{'Quissamã'} -> Quissamã\n",
      "{'Ribeirão Das Lajes'} -> Ribeirão Das Lajes\n",
      "{'Rio Bonito'} -> Rio Bonito\n",
      "{'Rio Claro'} -> Rio Claro\n",
      "{'Rio Dourado'} -> Rio Dourado\n",
      "{'Rio Grande'} -> Rio Grande\n",
      "{'Rio Preto'} -> Rio Preto\n",
      "{'Rio Souza'} -> Rio Souza\n",
      "{'Rosa Machado'} -> Rosa Machado\n",
      "{'Sacarrão'} -> Sacarrão\n",
      "{'Santa Clara'} -> Santa Clara\n",
      "{'Santa Maria Madalena'} -> Santa Maria Madalena\n",
      "{'Santa Rita Da Floresta'} -> Santa Rita Da Floresta\n",
      "{'Santo Aleixo'} -> Santo Aleixo\n",
      "{'Sapucaia'} -> Sapucaia\n",
      "{'Saudoso'} -> Saudoso\n",
      "{'Serra Do Piloto'} -> Serra Do Piloto\n",
      "{'Sistema Parque Santana'} -> Sistema Parque Santana\n",
      "{'Sistema São Pedro'} -> Sistema São Pedro\n",
      "{'Sumidouro'} -> Sumidouro\n",
      "{'Suruí'} -> Suruí\n",
      "{'São Fidélis'} -> São Fidélis\n",
      "{'São João Da Barra'} -> São João Da Barra\n",
      "{'São Pedro'} -> São Pedro\n",
      "{'São Sebastião Do Alto'} -> São Sebastião Do Alto\n",
      "{'São Sebastião Dos Ferreiros'} -> São Sebastião Dos Ferreiros\n",
      "{'Tachas'} -> Tachas\n",
      "{'Tanguá'} -> Tanguá\n",
      "{'Taylor'} -> Taylor\n",
      "{'Tinguá'} -> Tinguá\n",
      "{'Trajano'} -> Trajano\n",
      "{'Trajano De Morais'} -> Trajano De Morais\n",
      "{'Triunfo'} -> Triunfo\n",
      "{'Três Irmãos'} -> Três Irmãos\n",
      "{'Valença'} -> Valença\n",
      "{'Valão Do Barro'} -> Valão Do Barro\n",
      "{'Vargem Alegre'} -> Vargem Alegre\n",
      "{'Vargem Grande'} -> Vargem Grande\n",
      "{'Varjão'} -> Varjão\n",
      "{'Vassouras'} -> Vassouras\n",
      "{'Venda Das Flores'} -> Venda Das Flores\n",
      "{'Xerém'} -> Xerém\n"
     ]
    }
   ],
   "source": [
    "for cl in iter_clusters(cls):\n",
    "    right = get_right_spelling(cl)\n",
    "    print(cl, '->', right)"
   ]
  },
  {
   "cell_type": "markdown",
   "id": "c3c23f9b",
   "metadata": {},
   "source": [
    "We can formulate another metric to evaluate how good are our clusters. We'll count how many report each cluster has. Optimally, each cluster should have a report every year. If there are a lot of \"holes\" in the timeline, or misclassifications, then this number will be smaller."
   ]
  },
  {
   "cell_type": "code",
   "execution_count": 30,
   "id": "9f0f9543",
   "metadata": {},
   "outputs": [],
   "source": [
    "import numpy as np\n",
    "\n",
    "def num_of_reports(wss):\n",
    "    num = 0\n",
    "    for year, reports in links.items():\n",
    "        if wss in reports:\n",
    "            num += 1\n",
    "    return num\n",
    "\n",
    "def num_of_reports_per_cluster(clusters):\n",
    "    nums = []\n",
    "    for cluster in iter_clusters(clusters):\n",
    "        num = 0\n",
    "        for wss in cluster:\n",
    "            num += num_of_reports(wss)\n",
    "        nums.append(num)\n",
    "    return np.array(nums, dtype=int)"
   ]
  },
  {
   "cell_type": "markdown",
   "id": "ce4edb60",
   "metadata": {},
   "source": [
    "We then print some statistics about this data and plot it."
   ]
  },
  {
   "cell_type": "code",
   "execution_count": 37,
   "id": "78595dd9",
   "metadata": {},
   "outputs": [
    {
     "name": "stdout",
     "output_type": "stream",
     "text": [
      "Average: 4.25\n",
      "Minimum: 1.00\n",
      "Maximum: 5.00\n",
      "Stddev.: 1.37\n"
     ]
    },
    {
     "data": {
      "image/png": "[encoded data removed]",
      "text/plain": [
       "<Figure size 432x288 with 1 Axes>"
      ]
     },
     "metadata": {
      "needs_background": "light"
     },
     "output_type": "display_data"
    }
   ],
   "source": [
    "nreps = num_of_reports_per_cluster(cls)\n",
    "print(\"Average: {:.2f}\".format(np.average(nreps)))\n",
    "print(\"Minimum: {:.2f}\".format(np.min(nreps)))\n",
    "print(\"Maximum: {:.2f}\".format(np.max(nreps)))\n",
    "print(\"Stddev.: {:.2f}\".format(np.std(nreps)))\n",
    "\n",
    "plt.hist(nreps)\n",
    "plt.title(\"Histogram of number of reports per cluster\")\n",
    "plt.show()"
   ]
  },
  {
   "cell_type": "markdown",
   "id": "0455f897",
   "metadata": {},
   "source": [
    "We calculate how many clusters have less reports/year than the maximum value."
   ]
  },
  {
   "cell_type": "code",
   "execution_count": 41,
   "id": "c34dfa1a",
   "metadata": {},
   "outputs": [
    {
     "name": "stdout",
     "output_type": "stream",
     "text": [
      "27.56% of clusters have less than 5 reports per year\n"
     ]
    }
   ],
   "source": [
    "maxnreps = np.max(nreps)\n",
    "nrepslessthanmax = nreps[nreps < maxnreps]\n",
    "print(\"{:.2f}% of clusters have less than {:d} reports per year\".format(\n",
    "    100*len(nrepslessthanmax)/len(nreps), maxnreps))"
   ]
  }
 ],
 "metadata": {
  "kernelspec": {
   "display_name": "Python 3",
   "language": "python",
   "name": "python3"
  },
  "language_info": {
   "codemirror_mode": {
    "name": "ipython",
    "version": 3
   },
   "file_extension": ".py",
   "mimetype": "text/x-python",
   "name": "python",
   "nbconvert_exporter": "python",
   "pygments_lexer": "ipython3",
   "version": "3.9.5+"
  }
 },
 "nbformat": 4,
 "nbformat_minor": 5
}
