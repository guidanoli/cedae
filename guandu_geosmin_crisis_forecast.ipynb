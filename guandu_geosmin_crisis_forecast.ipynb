{
 "cells": [
  {
   "cell_type": "markdown",
   "id": "cbe450fe",
   "metadata": {},
   "source": [
    "# Guandu geosmin crisis forecast\n",
    "\n",
    "This notebook aims to analyse geosmin data, in particular how the concentration decays over time. For this, we'll be using the geosmin data extracted by the `guandu_extract_and_clean` notebook."
   ]
  },
  {
   "cell_type": "code",
   "execution_count": 1,
   "id": "fbaad722",
   "metadata": {},
   "outputs": [],
   "source": [
    "import pandas as pd\n",
    "import matplotlib.pyplot as plt\n",
    "import numpy as np\n",
    "from scipy.optimize import curve_fit\n",
    "import os"
   ]
  },
  {
   "cell_type": "code",
   "execution_count": 2,
   "id": "fb1286ba",
   "metadata": {},
   "outputs": [],
   "source": [
    "csv_dir = os.path.join('output', 'guandu')"
   ]
  },
  {
   "cell_type": "code",
   "execution_count": 3,
   "id": "fcd21fd0",
   "metadata": {},
   "outputs": [],
   "source": [
    "df1 = pd.read_csv(os.path.join(csv_dir, 'geosmin_2020-01-26_2020-03-18.csv'), index_col='date')"
   ]
  },
  {
   "cell_type": "code",
   "execution_count": 4,
   "id": "5dbcb2f2",
   "metadata": {},
   "outputs": [
    {
     "data": {
      "text/html": [
       "<div>\n",
       "<style scoped>\n",
       "    .dataframe tbody tr th:only-of-type {\n",
       "        vertical-align: middle;\n",
       "    }\n",
       "\n",
       "    .dataframe tbody tr th {\n",
       "        vertical-align: top;\n",
       "    }\n",
       "\n",
       "    .dataframe thead th {\n",
       "        text-align: right;\n",
       "    }\n",
       "</style>\n",
       "<table border=\"1\" class=\"dataframe\">\n",
       "  <thead>\n",
       "    <tr style=\"text-align: right;\">\n",
       "      <th></th>\n",
       "      <th>capture_geosmin</th>\n",
       "      <th>etas_geosmin</th>\n",
       "      <th>is_capture_geosmin_ub</th>\n",
       "      <th>is_etas_geosmin_ub</th>\n",
       "    </tr>\n",
       "    <tr>\n",
       "      <th>date</th>\n",
       "      <th></th>\n",
       "      <th></th>\n",
       "      <th></th>\n",
       "      <th></th>\n",
       "    </tr>\n",
       "  </thead>\n",
       "  <tbody>\n",
       "    <tr>\n",
       "      <th>2020-01-26</th>\n",
       "      <td>1.50</td>\n",
       "      <td>0.820</td>\n",
       "      <td>False</td>\n",
       "      <td>False</td>\n",
       "    </tr>\n",
       "    <tr>\n",
       "      <th>2020-01-27</th>\n",
       "      <td>1.20</td>\n",
       "      <td>0.431</td>\n",
       "      <td>False</td>\n",
       "      <td>False</td>\n",
       "    </tr>\n",
       "    <tr>\n",
       "      <th>2020-01-28</th>\n",
       "      <td>1.96</td>\n",
       "      <td>0.758</td>\n",
       "      <td>False</td>\n",
       "      <td>False</td>\n",
       "    </tr>\n",
       "    <tr>\n",
       "      <th>2020-01-29</th>\n",
       "      <td>1.59</td>\n",
       "      <td>0.802</td>\n",
       "      <td>False</td>\n",
       "      <td>False</td>\n",
       "    </tr>\n",
       "    <tr>\n",
       "      <th>2020-01-30</th>\n",
       "      <td>1.56</td>\n",
       "      <td>0.838</td>\n",
       "      <td>False</td>\n",
       "      <td>False</td>\n",
       "    </tr>\n",
       "  </tbody>\n",
       "</table>\n",
       "</div>"
      ],
      "text/plain": [
       "            capture_geosmin  etas_geosmin  is_capture_geosmin_ub  \\\n",
       "date                                                               \n",
       "2020-01-26             1.50         0.820                  False   \n",
       "2020-01-27             1.20         0.431                  False   \n",
       "2020-01-28             1.96         0.758                  False   \n",
       "2020-01-29             1.59         0.802                  False   \n",
       "2020-01-30             1.56         0.838                  False   \n",
       "\n",
       "            is_etas_geosmin_ub  \n",
       "date                            \n",
       "2020-01-26               False  \n",
       "2020-01-27               False  \n",
       "2020-01-28               False  \n",
       "2020-01-29               False  \n",
       "2020-01-30               False  "
      ]
     },
     "execution_count": 4,
     "metadata": {},
     "output_type": "execute_result"
    }
   ],
   "source": [
    "df1.head()"
   ]
  },
  {
   "cell_type": "code",
   "execution_count": 5,
   "id": "2d41c5d2",
   "metadata": {},
   "outputs": [],
   "source": [
    "df2 = pd.read_csv(os.path.join(csv_dir, 'geosmin_2020-10-23_today.csv'), index_col='date')"
   ]
  },
  {
   "cell_type": "code",
   "execution_count": 6,
   "id": "d659d719",
   "metadata": {},
   "outputs": [
    {
     "data": {
      "text/html": [
       "<div>\n",
       "<style scoped>\n",
       "    .dataframe tbody tr th:only-of-type {\n",
       "        vertical-align: middle;\n",
       "    }\n",
       "\n",
       "    .dataframe tbody tr th {\n",
       "        vertical-align: top;\n",
       "    }\n",
       "\n",
       "    .dataframe thead th {\n",
       "        text-align: right;\n",
       "    }\n",
       "</style>\n",
       "<table border=\"1\" class=\"dataframe\">\n",
       "  <thead>\n",
       "    <tr style=\"text-align: right;\">\n",
       "      <th></th>\n",
       "      <th>capture_geosmin</th>\n",
       "      <th>veta_geosmin</th>\n",
       "      <th>neta_geosmin</th>\n",
       "      <th>is_capture_geosmin_ub</th>\n",
       "      <th>is_veta_geosmin_ub</th>\n",
       "      <th>is_neta_geosmin_ub</th>\n",
       "    </tr>\n",
       "    <tr>\n",
       "      <th>date</th>\n",
       "      <th></th>\n",
       "      <th></th>\n",
       "      <th></th>\n",
       "      <th></th>\n",
       "      <th></th>\n",
       "      <th></th>\n",
       "    </tr>\n",
       "  </thead>\n",
       "  <tbody>\n",
       "    <tr>\n",
       "      <th>2020-10-23</th>\n",
       "      <td>0.01</td>\n",
       "      <td>0.01</td>\n",
       "      <td>0.01</td>\n",
       "      <td>True</td>\n",
       "      <td>True</td>\n",
       "      <td>True</td>\n",
       "    </tr>\n",
       "    <tr>\n",
       "      <th>2020-10-24</th>\n",
       "      <td>0.01</td>\n",
       "      <td>0.01</td>\n",
       "      <td>0.01</td>\n",
       "      <td>True</td>\n",
       "      <td>True</td>\n",
       "      <td>True</td>\n",
       "    </tr>\n",
       "    <tr>\n",
       "      <th>2020-10-25</th>\n",
       "      <td>0.01</td>\n",
       "      <td>0.01</td>\n",
       "      <td>0.01</td>\n",
       "      <td>True</td>\n",
       "      <td>True</td>\n",
       "      <td>True</td>\n",
       "    </tr>\n",
       "    <tr>\n",
       "      <th>2020-10-26</th>\n",
       "      <td>0.01</td>\n",
       "      <td>0.01</td>\n",
       "      <td>0.01</td>\n",
       "      <td>True</td>\n",
       "      <td>True</td>\n",
       "      <td>True</td>\n",
       "    </tr>\n",
       "    <tr>\n",
       "      <th>2020-10-27</th>\n",
       "      <td>0.01</td>\n",
       "      <td>0.01</td>\n",
       "      <td>0.01</td>\n",
       "      <td>True</td>\n",
       "      <td>True</td>\n",
       "      <td>True</td>\n",
       "    </tr>\n",
       "  </tbody>\n",
       "</table>\n",
       "</div>"
      ],
      "text/plain": [
       "            capture_geosmin  veta_geosmin  neta_geosmin  \\\n",
       "date                                                      \n",
       "2020-10-23             0.01          0.01          0.01   \n",
       "2020-10-24             0.01          0.01          0.01   \n",
       "2020-10-25             0.01          0.01          0.01   \n",
       "2020-10-26             0.01          0.01          0.01   \n",
       "2020-10-27             0.01          0.01          0.01   \n",
       "\n",
       "            is_capture_geosmin_ub  is_veta_geosmin_ub  is_neta_geosmin_ub  \n",
       "date                                                                       \n",
       "2020-10-23                   True                True                True  \n",
       "2020-10-24                   True                True                True  \n",
       "2020-10-25                   True                True                True  \n",
       "2020-10-26                   True                True                True  \n",
       "2020-10-27                   True                True                True  "
      ]
     },
     "execution_count": 6,
     "metadata": {},
     "output_type": "execute_result"
    }
   ],
   "source": [
    "df2.head()"
   ]
  },
  {
   "cell_type": "markdown",
   "id": "0a713591",
   "metadata": {},
   "source": [
    "Since we're only going to use data from the capture point, we're discarding all the rest. This means we can join both data frames into one."
   ]
  },
  {
   "cell_type": "code",
   "execution_count": 7,
   "id": "d2a7de32",
   "metadata": {},
   "outputs": [],
   "source": [
    "columns = ['capture_geosmin', 'is_capture_geosmin_ub']\n",
    "df3 = pd.concat([df1[columns], df2[columns]])\n",
    "df3.index = pd.to_datetime(df3.index)"
   ]
  },
  {
   "cell_type": "code",
   "execution_count": 8,
   "id": "38e3905a",
   "metadata": {},
   "outputs": [
    {
     "data": {
      "text/plain": [
       "(278, 2)"
      ]
     },
     "execution_count": 8,
     "metadata": {},
     "output_type": "execute_result"
    }
   ],
   "source": [
    "df3.shape"
   ]
  },
  {
   "cell_type": "code",
   "execution_count": 9,
   "id": "99a00b09",
   "metadata": {},
   "outputs": [
    {
     "data": {
      "text/html": [
       "<div>\n",
       "<style scoped>\n",
       "    .dataframe tbody tr th:only-of-type {\n",
       "        vertical-align: middle;\n",
       "    }\n",
       "\n",
       "    .dataframe tbody tr th {\n",
       "        vertical-align: top;\n",
       "    }\n",
       "\n",
       "    .dataframe thead th {\n",
       "        text-align: right;\n",
       "    }\n",
       "</style>\n",
       "<table border=\"1\" class=\"dataframe\">\n",
       "  <thead>\n",
       "    <tr style=\"text-align: right;\">\n",
       "      <th></th>\n",
       "      <th>capture_geosmin</th>\n",
       "      <th>is_capture_geosmin_ub</th>\n",
       "    </tr>\n",
       "    <tr>\n",
       "      <th>date</th>\n",
       "      <th></th>\n",
       "      <th></th>\n",
       "    </tr>\n",
       "  </thead>\n",
       "  <tbody>\n",
       "    <tr>\n",
       "      <th>2020-01-26</th>\n",
       "      <td>1.50</td>\n",
       "      <td>False</td>\n",
       "    </tr>\n",
       "    <tr>\n",
       "      <th>2020-01-27</th>\n",
       "      <td>1.20</td>\n",
       "      <td>False</td>\n",
       "    </tr>\n",
       "    <tr>\n",
       "      <th>2020-01-28</th>\n",
       "      <td>1.96</td>\n",
       "      <td>False</td>\n",
       "    </tr>\n",
       "    <tr>\n",
       "      <th>2020-01-29</th>\n",
       "      <td>1.59</td>\n",
       "      <td>False</td>\n",
       "    </tr>\n",
       "    <tr>\n",
       "      <th>2020-01-30</th>\n",
       "      <td>1.56</td>\n",
       "      <td>False</td>\n",
       "    </tr>\n",
       "  </tbody>\n",
       "</table>\n",
       "</div>"
      ],
      "text/plain": [
       "            capture_geosmin  is_capture_geosmin_ub\n",
       "date                                              \n",
       "2020-01-26             1.50                  False\n",
       "2020-01-27             1.20                  False\n",
       "2020-01-28             1.96                  False\n",
       "2020-01-29             1.59                  False\n",
       "2020-01-30             1.56                  False"
      ]
     },
     "execution_count": 9,
     "metadata": {},
     "output_type": "execute_result"
    }
   ],
   "source": [
    "df3.head()"
   ]
  },
  {
   "cell_type": "code",
   "execution_count": 10,
   "id": "1fc7a17a",
   "metadata": {},
   "outputs": [
    {
     "data": {
      "text/plain": [
       "<Figure size 432x288 with 0 Axes>"
      ]
     },
     "metadata": {},
     "output_type": "display_data"
    },
    {
     "data": {
      "image/png": "[encoded data removed]",
      "text/plain": [
       "<Figure size 432x288 with 1 Axes>"
      ]
     },
     "metadata": {
      "needs_background": "light"
     },
     "output_type": "display_data"
    }
   ],
   "source": [
    "plt.figure()\n",
    "df3.plot(title='Geosmin concentration', xlabel='Time', ylabel='Concentration (ug/L)')\n",
    "plt.show()"
   ]
  },
  {
   "cell_type": "markdown",
   "id": "0387c88b",
   "metadata": {},
   "source": [
    "Some of the samples are below a certain threshold and have so little geosmin that CEDAE only shares the upperbound. We decide to chop the samples into sections of non-upperbound values. We do this by adding a new column `section` which receives an integer. Every sample of a section have the same section number. Samples that are only upper bounds belong to section `0`."
   ]
  },
  {
   "cell_type": "code",
   "execution_count": 11,
   "id": "7ed764ad",
   "metadata": {},
   "outputs": [],
   "source": [
    "nsections = 0\n",
    "insection = False\n",
    "sections = np.zeros(len(df3), dtype=np.int32)\n",
    "index = 0\n",
    "for date, row in df3.iterrows():\n",
    "    if row.is_capture_geosmin_ub:\n",
    "        insection = False\n",
    "    else:\n",
    "        if not insection:\n",
    "            nsections += 1\n",
    "            insection = True\n",
    "        sections[index] = nsections\n",
    "    index += 1\n",
    "df3['section'] = sections"
   ]
  },
  {
   "cell_type": "markdown",
   "id": "e269628c",
   "metadata": {},
   "source": [
    "Now, let's plot each section with a different color. We also only plot the part from the highest concentration to the end."
   ]
  },
  {
   "cell_type": "code",
   "execution_count": 12,
   "id": "ecf994c9",
   "metadata": {},
   "outputs": [
    {
     "data": {
      "image/png": "[encoded data removed]",
      "text/plain": [
       "<Figure size 576x432 with 1 Axes>"
      ]
     },
     "metadata": {
      "needs_background": "light"
     },
     "output_type": "display_data"
    }
   ],
   "source": [
    "sections = {}\n",
    "plt.figure(figsize=[8, 6])\n",
    "plt.title('Geosmin concentration divided into sections')\n",
    "plt.xlabel('Date')\n",
    "plt.ylabel('Concentration (ug/L)')\n",
    "for section in range(1,nsections+1):\n",
    "    df = df3[df3.section == section][['capture_geosmin']]\n",
    "    peakday = df.index[np.argmax(df.capture_geosmin)]\n",
    "    df = df[df.index >= peakday]\n",
    "    if len(df) > 1 and df.capture_geosmin[peakday] > 0.02:\n",
    "        sections[section] = df\n",
    "        plt.plot(df.capture_geosmin, label=section)\n",
    "plt.legend(title='Section', loc='best')\n",
    "plt.show()"
   ]
  },
  {
   "cell_type": "code",
   "execution_count": 13,
   "id": "7fcd019a",
   "metadata": {
    "scrolled": true
   },
   "outputs": [],
   "source": [
    "peaks = {}\n",
    "durations = {}\n",
    "for section, df in sections.items():\n",
    "    peaks[section] = df.capture_geosmin[df.index[0]]\n",
    "    durations[section] = np.ptp(df.index) / np.timedelta64(1, 'D')\n",
    "df4 = pd.DataFrame({'peak': peaks, 'duration':durations})"
   ]
  },
  {
   "cell_type": "code",
   "execution_count": 14,
   "id": "993ec356",
   "metadata": {},
   "outputs": [
    {
     "data": {
      "text/html": [
       "<div>\n",
       "<style scoped>\n",
       "    .dataframe tbody tr th:only-of-type {\n",
       "        vertical-align: middle;\n",
       "    }\n",
       "\n",
       "    .dataframe tbody tr th {\n",
       "        vertical-align: top;\n",
       "    }\n",
       "\n",
       "    .dataframe thead th {\n",
       "        text-align: right;\n",
       "    }\n",
       "</style>\n",
       "<table border=\"1\" class=\"dataframe\">\n",
       "  <thead>\n",
       "    <tr style=\"text-align: right;\">\n",
       "      <th></th>\n",
       "      <th>peak</th>\n",
       "      <th>duration</th>\n",
       "    </tr>\n",
       "  </thead>\n",
       "  <tbody>\n",
       "    <tr>\n",
       "      <th>1</th>\n",
       "      <td>1.960</td>\n",
       "      <td>17.0</td>\n",
       "    </tr>\n",
       "    <tr>\n",
       "      <th>2</th>\n",
       "      <td>0.047</td>\n",
       "      <td>3.0</td>\n",
       "    </tr>\n",
       "    <tr>\n",
       "      <th>11</th>\n",
       "      <td>0.318</td>\n",
       "      <td>12.0</td>\n",
       "    </tr>\n",
       "    <tr>\n",
       "      <th>13</th>\n",
       "      <td>0.024</td>\n",
       "      <td>3.0</td>\n",
       "    </tr>\n",
       "    <tr>\n",
       "      <th>15</th>\n",
       "      <td>1.905</td>\n",
       "      <td>12.0</td>\n",
       "    </tr>\n",
       "  </tbody>\n",
       "</table>\n",
       "</div>"
      ],
      "text/plain": [
       "     peak  duration\n",
       "1   1.960      17.0\n",
       "2   0.047       3.0\n",
       "11  0.318      12.0\n",
       "13  0.024       3.0\n",
       "15  1.905      12.0"
      ]
     },
     "execution_count": 14,
     "metadata": {},
     "output_type": "execute_result"
    }
   ],
   "source": [
    "df4"
   ]
  },
  {
   "cell_type": "code",
   "execution_count": 15,
   "id": "f4c0800e",
   "metadata": {},
   "outputs": [
    {
     "data": {
      "image/png": "[encoded data removed]",
      "text/plain": [
       "<Figure size 432x288 with 1 Axes>"
      ]
     },
     "metadata": {
      "needs_background": "light"
     },
     "output_type": "display_data"
    }
   ],
   "source": [
    "ax = df4.plot.scatter('duration', 'peak', title='Duration x Concentration Peak')"
   ]
  },
  {
   "cell_type": "code",
   "execution_count": 16,
   "id": "59ee0d40",
   "metadata": {},
   "outputs": [
    {
     "data": {
      "text/html": [
       "<div>\n",
       "<style scoped>\n",
       "    .dataframe tbody tr th:only-of-type {\n",
       "        vertical-align: middle;\n",
       "    }\n",
       "\n",
       "    .dataframe tbody tr th {\n",
       "        vertical-align: top;\n",
       "    }\n",
       "\n",
       "    .dataframe thead th {\n",
       "        text-align: right;\n",
       "    }\n",
       "</style>\n",
       "<table border=\"1\" class=\"dataframe\">\n",
       "  <thead>\n",
       "    <tr style=\"text-align: right;\">\n",
       "      <th></th>\n",
       "      <th>peak</th>\n",
       "      <th>duration</th>\n",
       "    </tr>\n",
       "  </thead>\n",
       "  <tbody>\n",
       "    <tr>\n",
       "      <th>peak</th>\n",
       "      <td>1.000000</td>\n",
       "      <td>0.821478</td>\n",
       "    </tr>\n",
       "    <tr>\n",
       "      <th>duration</th>\n",
       "      <td>0.821478</td>\n",
       "      <td>1.000000</td>\n",
       "    </tr>\n",
       "  </tbody>\n",
       "</table>\n",
       "</div>"
      ],
      "text/plain": [
       "              peak  duration\n",
       "peak      1.000000  0.821478\n",
       "duration  0.821478  1.000000"
      ]
     },
     "execution_count": 16,
     "metadata": {},
     "output_type": "execute_result"
    }
   ],
   "source": [
    "df4.corr()"
   ]
  },
  {
   "cell_type": "code",
   "execution_count": 17,
   "id": "fbf57268",
   "metadata": {},
   "outputs": [],
   "source": [
    "def func(x, a, b, c):\n",
    "    return a * np.exp(b * x) + c\n",
    "\n",
    "def func_inv(x, a, b, c):\n",
    "    return np.log((x-c)/a)/b\n",
    "\n",
    "df5 = df4.sort_values(by=['duration'])\n",
    "x = df5.duration\n",
    "y = df5.peak\n",
    "popt, pcov = curve_fit(func, x, y)"
   ]
  },
  {
   "cell_type": "code",
   "execution_count": 18,
   "id": "72b65989",
   "metadata": {},
   "outputs": [
    {
     "data": {
      "image/png": "[encoded data removed]",
      "text/plain": [
       "<Figure size 432x288 with 1 Axes>"
      ]
     },
     "metadata": {
      "needs_background": "light"
     },
     "output_type": "display_data"
    }
   ],
   "source": [
    "fig = plt.figure()\n",
    "ax = fig.add_subplot(111)\n",
    "plt.title('Peak concentration vs. days')\n",
    "plt.plot(x, y, 'bo', label=\"Original Data\")\n",
    "datefmt = '%Y/%m/%d'\n",
    "for section, row in df5.iterrows():\n",
    "    px, py = row.duration, row.peak\n",
    "    dates = df3[df3.section == section].index\n",
    "    label = '  ' + np.min(dates).strftime(datefmt) + '-' + np.max(dates).strftime(datefmt)\n",
    "    ax.annotate(label, xy=(px, py), textcoords='data')\n",
    "plt.xlabel('Days')\n",
    "plt.ylabel('Peak concentration (ug/L)')\n",
    "a, b, c = popt\n",
    "yf = func(x, *popt)\n",
    "xf = func_inv(y, *popt)\n",
    "plt.plot(x, yf, 'r-', label=\"Fitted Curve\")\n",
    "plt.legend()\n",
    "plt.show()"
   ]
  },
  {
   "cell_type": "code",
   "execution_count": 19,
   "id": "f2709bd8",
   "metadata": {},
   "outputs": [
    {
     "name": "stdout",
     "output_type": "stream",
     "text": [
      "Peak concentration RMSD = 0.50 ug/L\n",
      "Days RMSD = 3.49\n"
     ]
    }
   ],
   "source": [
    "y_rmsd = np.sqrt(np.mean(np.square(yf-y)))\n",
    "x_rmsd = np.sqrt(np.mean(np.square(xf-x)))\n",
    "print('Peak concentration RMSD = {:.2f} ug/L'.format(y_rmsd))\n",
    "print('Days RMSD = {:.2f}'.format(x_rmsd))"
   ]
  },
  {
   "cell_type": "markdown",
   "id": "de6898d0",
   "metadata": {},
   "source": [
    "We can try to make predictions now of how much time the crisis will be solved, if we know the peak concentration."
   ]
  },
  {
   "cell_type": "code",
   "execution_count": 20,
   "id": "4d29f143",
   "metadata": {},
   "outputs": [],
   "source": [
    "def predict_peak(x):\n",
    "    return func(x, *popt)\n",
    "\n",
    "def predict_days(y):\n",
    "    return func_inv(y, *popt)"
   ]
  },
  {
   "cell_type": "code",
   "execution_count": 24,
   "id": "ca4d8756",
   "metadata": {},
   "outputs": [
    {
     "name": "stdout",
     "output_type": "stream",
     "text": [
      "Enter peak concentration in ug/L: 10\n",
      "It should take at least 39.41±3.49 days\n"
     ]
    }
   ],
   "source": [
    "peak = float(input('Enter peak concentration in ug/L: '))\n",
    "days = predict_days(peak)\n",
    "print('It should take at least {:.2f}±{:.2f} days'.format(days, x_rmsd))"
   ]
  }
 ],
 "metadata": {
  "kernelspec": {
   "display_name": "Python 3",
   "language": "python",
   "name": "python3"
  },
  "language_info": {
   "codemirror_mode": {
    "name": "ipython",
    "version": 3
   },
   "file_extension": ".py",
   "mimetype": "text/x-python",
   "name": "python",
   "nbconvert_exporter": "python",
   "pygments_lexer": "ipython3",
   "version": "3.9.5+"
  }
 },
 "nbformat": 4,
 "nbformat_minor": 5
}
